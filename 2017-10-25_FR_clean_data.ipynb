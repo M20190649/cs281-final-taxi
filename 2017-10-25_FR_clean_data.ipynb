{
 "cells": [
  {
   "cell_type": "code",
   "execution_count": 1,
   "metadata": {
    "ExecuteTime": {
     "end_time": "2017-11-01T19:36:42.949691Z",
     "start_time": "2017-11-01T19:36:41.511455Z"
    },
    "collapsed": true
   },
   "outputs": [],
   "source": [
    "import numpy as np\n",
    "import pandas as pd\n",
    "import matplotlib.pyplot as plt\n",
    "import torch\n",
    "from torch.autograd import Variable\n",
    "\n",
    "%matplotlib notebook\n",
    "\n",
    "%run utils.py"
   ]
  },
  {
   "cell_type": "markdown",
   "metadata": {},
   "source": [
    "# Read in Raw Unprocessed Data"
   ]
  },
  {
   "cell_type": "code",
   "execution_count": 2,
   "metadata": {
    "ExecuteTime": {
     "end_time": "2017-11-01T19:37:37.779891Z",
     "start_time": "2017-11-01T19:36:42.951853Z"
    },
    "collapsed": true
   },
   "outputs": [],
   "source": [
    "df = pd.read_csv('data/yellow_tripdata_2009-01.csv')"
   ]
  },
  {
   "cell_type": "markdown",
   "metadata": {},
   "source": [
    "# Process Data Types"
   ]
  },
  {
   "cell_type": "code",
   "execution_count": 3,
   "metadata": {
    "ExecuteTime": {
     "end_time": "2017-11-01T19:37:47.901249Z",
     "start_time": "2017-11-01T19:37:37.783811Z"
    },
    "collapsed": true
   },
   "outputs": [],
   "source": [
    "df['Trip_Dropoff_DateTime'] = pd.to_datetime(df['Trip_Dropoff_DateTime'])\n",
    "df['Trip_Pickup_DateTime'] = pd.to_datetime(df['Trip_Pickup_DateTime'])"
   ]
  },
  {
   "cell_type": "markdown",
   "metadata": {},
   "source": [
    "# Add Continuous Columns"
   ]
  },
  {
   "cell_type": "code",
   "execution_count": 4,
   "metadata": {
    "ExecuteTime": {
     "end_time": "2017-11-01T19:37:51.828769Z",
     "start_time": "2017-11-01T19:37:47.903356Z"
    },
    "collapsed": true
   },
   "outputs": [],
   "source": [
    "df['duration'] = (df['Trip_Dropoff_DateTime'] - df['Trip_Pickup_DateTime']).dt.total_seconds()\n",
    "df['weekday'] = df['Trip_Pickup_DateTime'].dt.weekday\n",
    "df['hour'] = df['Trip_Pickup_DateTime'].dt.hour"
   ]
  },
  {
   "cell_type": "markdown",
   "metadata": {},
   "source": [
    "# Add Dummy Columns"
   ]
  },
  {
   "cell_type": "code",
   "execution_count": 5,
   "metadata": {
    "ExecuteTime": {
     "end_time": "2017-11-01T19:38:00.259299Z",
     "start_time": "2017-11-01T19:37:51.831099Z"
    },
    "collapsed": true
   },
   "outputs": [],
   "source": [
    "w = pd.get_dummies(df['weekday'])\n",
    "w.columns = ['week_{}'.format(c) for c in w.columns]\n",
    "\n",
    "hour = pd.get_dummies(df['hour'])\n",
    "hour.columns = ['hour_{}'.format(c) for c in hour.columns ]\n",
    "\n",
    "df = pd.concat([df, w, hour], axis=1)"
   ]
  },
  {
   "cell_type": "markdown",
   "metadata": {},
   "source": [
    "# Filter Out Observations"
   ]
  },
  {
   "cell_type": "code",
   "execution_count": 6,
   "metadata": {
    "ExecuteTime": {
     "end_time": "2017-11-01T19:38:33.064219Z",
     "start_time": "2017-11-01T19:38:00.262029Z"
    }
   },
   "outputs": [
    {
     "data": {
      "application/vnd.jupyter.widget-view+json": {
       "model_id": "86484255c0d344a78ad58236a6f8efa2"
      }
     },
     "metadata": {},
     "output_type": "display_data"
    },
    {
     "name": "stdout",
     "output_type": "stream",
     "text": [
      "\n"
     ]
    }
   ],
   "source": [
    "filters = [filter_coords, filter_durations]\n",
    "\n",
    "for f in tqdm(filters):\n",
    "    df = f(df)"
   ]
  },
  {
   "cell_type": "markdown",
   "metadata": {},
   "source": [
    "# De-Mean the Data"
   ]
  },
  {
   "cell_type": "code",
   "execution_count": 7,
   "metadata": {
    "ExecuteTime": {
     "end_time": "2017-11-01T19:38:34.615934Z",
     "start_time": "2017-11-01T19:38:33.069926Z"
    }
   },
   "outputs": [
    {
     "name": "stdout",
     "output_type": "stream",
     "text": [
      "Trip_Distance\n",
      "2.300940237560106\n",
      "2.1919287167166224\n",
      "\n",
      "Start_Lon\n",
      "-73.97826142142969\n",
      "0.0239235715736219\n",
      "\n",
      "Start_Lat\n",
      "40.753207908605766\n",
      "0.02262721225173857\n",
      "\n",
      "End_Lon\n",
      "-73.97635609080373\n",
      "0.025989097948950303\n",
      "\n",
      "End_Lat\n",
      "40.753145629515345\n",
      "0.025820804247699374\n",
      "\n"
     ]
    }
   ],
   "source": [
    "for c in ['Trip_Distance', 'Start_Lon', 'Start_Lat', 'End_Lon', 'End_Lat']:\n",
    "    print (c)\n",
    "    print (df[c].mean())\n",
    "    print (df[c].std())\n",
    "    print()\n",
    "    df[c] = (df[c] - df[c].mean()) / df[c].std()"
   ]
  },
  {
   "cell_type": "markdown",
   "metadata": {},
   "source": [
    "# Test-Train-Validation Split"
   ]
  },
  {
   "cell_type": "code",
   "execution_count": 8,
   "metadata": {
    "ExecuteTime": {
     "end_time": "2017-11-01T19:38:34.624844Z",
     "start_time": "2017-11-01T19:38:34.620330Z"
    },
    "collapsed": true
   },
   "outputs": [],
   "source": [
    "n = len(df)"
   ]
  },
  {
   "cell_type": "code",
   "execution_count": 9,
   "metadata": {
    "ExecuteTime": {
     "end_time": "2017-11-01T19:38:35.066527Z",
     "start_time": "2017-11-01T19:38:34.628986Z"
    },
    "collapsed": true
   },
   "outputs": [],
   "source": [
    "splits = np.random.choice([0, 1, 2], size=n, p=[.8, .1, .1])"
   ]
  },
  {
   "cell_type": "code",
   "execution_count": 10,
   "metadata": {
    "ExecuteTime": {
     "end_time": "2017-11-01T19:38:38.572455Z",
     "start_time": "2017-11-01T19:38:35.069412Z"
    },
    "collapsed": true
   },
   "outputs": [],
   "source": [
    "df_train = df[splits == 0]\n",
    "df_test = df[splits == 1]\n",
    "df_validate = df[splits == 2]"
   ]
  },
  {
   "cell_type": "markdown",
   "metadata": {},
   "source": [
    "# Save Cleaned Data"
   ]
  },
  {
   "cell_type": "code",
   "execution_count": 11,
   "metadata": {
    "ExecuteTime": {
     "end_time": "2017-11-01T19:38:38.579760Z",
     "start_time": "2017-11-01T19:38:38.574145Z"
    },
    "collapsed": true
   },
   "outputs": [],
   "source": [
    "x = ['duration', 'Trip_Distance','Start_Lon', 'Start_Lat', 'End_Lon', 'End_Lat', \n",
    "'week_0', 'week_1', 'week_2', 'week_3', 'week_4', 'week_5',\n",
    "'week_6', 'hour_0', 'hour_1', 'hour_2', 'hour_3', 'hour_4', 'hour_5',\n",
    "'hour_6', 'hour_7', 'hour_8', 'hour_9', 'hour_10', 'hour_11', 'hour_12',\n",
    "'hour_13', 'hour_14', 'hour_15', 'hour_16', 'hour_17', 'hour_18',\n",
    "'hour_19', 'hour_20', 'hour_21', 'hour_22', 'hour_23']"
   ]
  },
  {
   "cell_type": "code",
   "execution_count": 12,
   "metadata": {
    "ExecuteTime": {
     "end_time": "2017-11-01T19:43:41.358643Z",
     "start_time": "2017-11-01T19:38:38.581689Z"
    },
    "collapsed": true
   },
   "outputs": [],
   "source": [
    "df[x].to_csv('data/yellow_tripdata_2009-01_cleaned.csv',index=False)"
   ]
  },
  {
   "cell_type": "code",
   "execution_count": 13,
   "metadata": {
    "ExecuteTime": {
     "end_time": "2017-11-01T20:09:32.320734Z",
     "start_time": "2017-11-01T19:43:41.363184Z"
    },
    "collapsed": true
   },
   "outputs": [],
   "source": [
    "df_train[x].to_csv('data/yellow_tripdata_2009-01_train.csv',index=False)\n",
    "df_test[x].to_csv('data/yellow_tripdata_2009-01_test.csv',index=False)\n",
    "df_validate[x].to_csv('data/yellow_tripdata_2009-01_val.csv',index=False)"
   ]
  },
  {
   "cell_type": "code",
   "execution_count": 14,
   "metadata": {
    "ExecuteTime": {
     "end_time": "2017-11-01T20:09:32.338009Z",
     "start_time": "2017-11-01T20:09:32.325472Z"
    }
   },
   "outputs": [
    {
     "data": {
      "text/plain": [
       "13239938"
      ]
     },
     "execution_count": 14,
     "metadata": {},
     "output_type": "execute_result"
    }
   ],
   "source": [
    "len(df)"
   ]
  },
  {
   "cell_type": "code",
   "execution_count": 15,
   "metadata": {
    "ExecuteTime": {
     "end_time": "2017-11-01T20:16:19.046810Z",
     "start_time": "2017-11-01T20:16:19.040300Z"
    }
   },
   "outputs": [
    {
     "data": {
      "text/plain": [
       "10590681"
      ]
     },
     "execution_count": 15,
     "metadata": {},
     "output_type": "execute_result"
    }
   ],
   "source": [
    "len(df_train)"
   ]
  },
  {
   "cell_type": "code",
   "execution_count": 16,
   "metadata": {
    "ExecuteTime": {
     "end_time": "2017-11-01T20:16:23.463502Z",
     "start_time": "2017-11-01T20:16:23.459008Z"
    }
   },
   "outputs": [
    {
     "data": {
      "text/plain": [
       "1323607"
      ]
     },
     "execution_count": 16,
     "metadata": {},
     "output_type": "execute_result"
    }
   ],
   "source": [
    "len(df_test)"
   ]
  },
  {
   "cell_type": "code",
   "execution_count": 17,
   "metadata": {
    "ExecuteTime": {
     "end_time": "2017-11-01T20:16:25.536924Z",
     "start_time": "2017-11-01T20:16:25.529512Z"
    }
   },
   "outputs": [
    {
     "data": {
      "text/plain": [
       "1325650"
      ]
     },
     "execution_count": 17,
     "metadata": {},
     "output_type": "execute_result"
    }
   ],
   "source": [
    "len(df_validate)"
   ]
  },
  {
   "cell_type": "code",
   "execution_count": null,
   "metadata": {
    "collapsed": true
   },
   "outputs": [],
   "source": []
  }
 ],
 "metadata": {
  "hide_input": false,
  "kernelspec": {
   "display_name": "Python 3",
   "language": "python",
   "name": "python3"
  },
  "language_info": {
   "codemirror_mode": {
    "name": "ipython",
    "version": 3
   },
   "file_extension": ".py",
   "mimetype": "text/x-python",
   "name": "python",
   "nbconvert_exporter": "python",
   "pygments_lexer": "ipython3",
   "version": "3.6.1"
  }
 },
 "nbformat": 4,
 "nbformat_minor": 2
}
