{
 "cells": [
  {
   "cell_type": "code",
   "execution_count": 1,
   "metadata": {
    "collapsed": true
   },
   "outputs": [],
   "source": [
    "from torch import nn\n",
    "from tqdm import tqdm_notebook as tqdm\n",
    "import ipywidgets as widgets\n",
    "from ipywidgets import interact\n",
    "import pdb\n",
    "\n",
    "import time\n",
    "\n",
    "%run utils.py\n",
    "\n",
    "%matplotlib inline"
   ]
  },
  {
   "cell_type": "code",
   "execution_count": 2,
   "metadata": {
    "collapsed": true
   },
   "outputs": [],
   "source": [
    "w = widgets.IntText()"
   ]
  },
  {
   "cell_type": "code",
   "execution_count": 3,
   "metadata": {},
   "outputs": [
    {
     "data": {
      "application/vnd.jupyter.widget-view+json": {
       "model_id": "cea66f349cdf46bf86395fe9c86db875",
       "version_major": 2,
       "version_minor": 0
      },
      "text/html": [
       "<p>Failed to display Jupyter Widget of type <code>interactive</code>.</p>\n",
       "<p>\n",
       "  If you're reading this message in the Jupyter Notebook or JupyterLab Notebook, it may mean\n",
       "  that the widgets JavaScript is still loading. If this message persists, it\n",
       "  likely means that the widgets JavaScript library is either not installed or\n",
       "  not enabled. See the <a href=\"https://ipywidgets.readthedocs.io/en/stable/user_install.html\">Jupyter\n",
       "  Widgets Documentation</a> for setup instructions.\n",
       "</p>\n",
       "<p>\n",
       "  If you're reading this message in another frontend (for example, a static\n",
       "  rendering on GitHub or <a href=\"https://nbviewer.jupyter.org/\">NBViewer</a>),\n",
       "  it may mean that your frontend doesn't currently support widgets.\n",
       "</p>\n"
      ],
      "text/plain": [
       "interactive(children=(IntText(value=0, description='x'), Output()), _dom_classes=('widget-interact',))"
      ]
     },
     "metadata": {},
     "output_type": "display_data"
    }
   ],
   "source": [
    "@interact(x=w)\n",
    "def f(x):\n",
    "    WINDOW_SIZE = 100\n",
    "    \n",
    "    epoch_progress = len(losses[-1])\n",
    "    i = max(epoch_progress-WINDOW_SIZE,0)\n",
    "    if len(losses) > 1:\n",
    "        diffs = np.array(losses[-1][i:epoch_progress]) - np.array(losses[-2][i:epoch_progress])\n",
    "        plt.plot(range(i,epoch_progress), diffs, label='This-Last Epoch')\n",
    "    else:\n",
    "        plt.plot(range(i,epoch_progress), losses[-1][i:epoch_progress], label='This Epoch')\n",
    "    plt.xlim((i,epoch_progress))\n",
    "    plt.legend()\n",
    "    plt.show()"
   ]
  },
  {
   "cell_type": "code",
   "execution_count": 4,
   "metadata": {
    "collapsed": true
   },
   "outputs": [],
   "source": [
    "def df_to_torch(df_clean):\n",
    "    y = Variable(torch.from_numpy(df_clean['duration'].as_matrix()).float())\n",
    "    x = Variable(torch.from_numpy(df_clean.drop(['duration',], axis=1).as_matrix()).float())\n",
    "    return x, y"
   ]
  },
  {
   "cell_type": "code",
   "execution_count": 5,
   "metadata": {
    "collapsed": true
   },
   "outputs": [],
   "source": [
    "N, D_in, H, D_out = 1000, 36, 100, 1\n",
    "model = nn.Sequential(\n",
    "    nn.Linear(D_in, 1, bias=True),\n",
    "    #nn.Sigmoid(),\n",
    "    #nn.Linear(H, D_out),\n",
    "    #nn.Sigmoid()\n",
    ")\n",
    "\n",
    "loss_fn = torch.nn.MSELoss(size_average=False)"
   ]
  },
  {
   "cell_type": "code",
   "execution_count": 6,
   "metadata": {
    "collapsed": true
   },
   "outputs": [],
   "source": [
    "losses = []"
   ]
  },
  {
   "cell_type": "code",
   "execution_count": null,
   "metadata": {},
   "outputs": [
    {
     "data": {
      "application/vnd.jupyter.widget-view+json": {
       "model_id": "d9539e468efe41a7b16530c270bc7da1",
       "version_major": 2,
       "version_minor": 0
      },
      "text/html": [
       "<p>Failed to display Jupyter Widget of type <code>HBox</code>.</p>\n",
       "<p>\n",
       "  If you're reading this message in the Jupyter Notebook or JupyterLab Notebook, it may mean\n",
       "  that the widgets JavaScript is still loading. If this message persists, it\n",
       "  likely means that the widgets JavaScript library is either not installed or\n",
       "  not enabled. See the <a href=\"https://ipywidgets.readthedocs.io/en/stable/user_install.html\">Jupyter\n",
       "  Widgets Documentation</a> for setup instructions.\n",
       "</p>\n",
       "<p>\n",
       "  If you're reading this message in another frontend (for example, a static\n",
       "  rendering on GitHub or <a href=\"https://nbviewer.jupyter.org/\">NBViewer</a>),\n",
       "  it may mean that your frontend doesn't currently support widgets.\n",
       "</p>\n"
      ],
      "text/plain": [
       "HBox(children=(IntProgress(value=0, max=674209600), HTML(value='')))"
      ]
     },
     "metadata": {},
     "output_type": "display_data"
    },
    {
     "name": "stdout",
     "output_type": "stream",
     "text": [
      "epoch 0 loss 1811079.3896592394\n",
      "epoch 1 loss 1746903.0743958554\n",
      "epoch 2 loss 1746069.7899952775\n",
      "epoch 3 loss 1745741.3373265525\n",
      "epoch 4 loss 1745507.9240307466\n",
      "epoch 5 loss 1745327.356003237\n",
      "epoch 6 loss 1745183.547521127\n",
      "epoch 7 loss 1745066.5466359423\n",
      "epoch 8 loss 1744969.8268075685\n",
      "epoch 9 loss 1744888.8212567724\n",
      "epoch 10 loss 1744820.39687124\n",
      "epoch 11 loss 1744762.040580852\n",
      "epoch 12 loss 1744711.7060000333\n",
      "epoch 13 loss 1744668.2747394876\n"
     ]
    }
   ],
   "source": [
    "i = 0\n",
    "num_entries = 13484192\n",
    "chunksize = 10000\n",
    "w.value = 0\n",
    "learning_rate = 1e-7\n",
    "display_freq = 10\n",
    "\n",
    "num_epochs = 50\n",
    "with tqdm(total=num_epochs*num_entries) as pbar:\n",
    "    for epoch in range(num_epochs):\n",
    "        losses.append([])\n",
    "        df_iter = pd.read_csv('data/yellow_tripdata_2009-01_cleaned.csv', chunksize=chunksize)\n",
    "        total_loss = 0\n",
    "        for df in df_iter:\n",
    "            x, y = df_to_torch(df)\n",
    "            pbar.update(1)\n",
    "            # Forward pass: compute predicted y by passing x to the model. Module objects\n",
    "            # override the _call_ operator so you can call them like functions. When\n",
    "            # doing so you pass a Variable of input data to the Module and it produces\n",
    "            # a Variable of output data.\n",
    "            y_pred = model(x)\n",
    "\n",
    "            # Compute and print loss. We pass Variables containing the predicted and true\n",
    "            # values of y, and the loss function returns a Variable containing the loss.\n",
    "            loss = loss_fn(y_pred, y)\n",
    "            total_loss += loss.data[0]\n",
    "            \n",
    "            # dashboard logic\n",
    "            losses[-1].append(loss.data[0]/chunksize)\n",
    "            i += 1\n",
    "            if (i % display_freq == 0):\n",
    "                w.value = w.value + 1\n",
    "            \n",
    "            # Zero the gradients before running the backward pass.\n",
    "            model.zero_grad()\n",
    "\n",
    "            # Backward pass: compute gradient of the loss with respect to all the learnable\n",
    "            # parameters of the model. Internally, the parameters of each Module are stored\n",
    "            # in Variables with requires_grad=True, so this call will compute gradients for\n",
    "            # all learnable parameters in the model.\n",
    "            loss.backward()\n",
    "\n",
    "            # Update the weights using gradient descent. Each parameter is a Variable, so\n",
    "            # we can access its data and gradients like we did before.\n",
    "            for param in model.parameters():\n",
    "                param.data -= learning_rate * param.grad.data\n",
    "            #pdb.set_trace()\n",
    "        print('epoch', epoch, 'loss', total_loss/num_entries)"
   ]
  },
  {
   "cell_type": "code",
   "execution_count": null,
   "metadata": {
    "collapsed": true
   },
   "outputs": [],
   "source": [
    "params = [p for p in model.parameters()]"
   ]
  },
  {
   "cell_type": "code",
   "execution_count": null,
   "metadata": {
    "collapsed": true
   },
   "outputs": [],
   "source": [
    "x = pd.Series([])"
   ]
  },
  {
   "cell_type": "code",
   "execution_count": null,
   "metadata": {
    "collapsed": true
   },
   "outputs": [],
   "source": [
    "x = x.append(pd.Series(1), ignore_index=True)"
   ]
  },
  {
   "cell_type": "code",
   "execution_count": null,
   "metadata": {
    "collapsed": true
   },
   "outputs": [],
   "source": [
    "x"
   ]
  },
  {
   "cell_type": "code",
   "execution_count": null,
   "metadata": {
    "collapsed": true
   },
   "outputs": [],
   "source": []
  }
 ],
 "metadata": {
  "kernelspec": {
   "display_name": "Python 3",
   "language": "python",
   "name": "python3"
  },
  "language_info": {
   "codemirror_mode": {
    "name": "ipython",
    "version": 3
   },
   "file_extension": ".py",
   "mimetype": "text/x-python",
   "name": "python",
   "nbconvert_exporter": "python",
   "pygments_lexer": "ipython3",
   "version": "3.6.1"
  }
 },
 "nbformat": 4,
 "nbformat_minor": 2
}
