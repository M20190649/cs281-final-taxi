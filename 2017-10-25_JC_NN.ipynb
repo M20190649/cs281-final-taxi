{
 "cells": [
  {
   "cell_type": "code",
   "execution_count": 14,
   "metadata": {
    "ExecuteTime": {
     "end_time": "2017-11-17T02:23:20.284956Z",
     "start_time": "2017-11-17T02:23:20.207040Z"
    }
   },
   "outputs": [
    {
     "data": {
      "application/vnd.jupyter.widget-view+json": {
       "model_id": "bb455aed9e714af5968821225b659600"
      }
     },
     "metadata": {},
     "output_type": "display_data"
    },
    {
     "name": "stdout",
     "output_type": "stream",
     "text": [
      "\n"
     ]
    }
   ],
   "source": [
    "import numpy as np\n",
    "import pandas as pd\n",
    "import matplotlib.pyplot as plt\n",
    "from tqdm import tqdm_notebook as tqdm\n",
    "import torch\n",
    "from torch.autograd import Variable\n",
    "from torch import Tensor\n",
    "import io\n",
    "import requests\n",
    "from torch import nn\n",
    "from IPython.display import clear_output\n",
    "\n",
    "tqdm().pandas()\n",
    "%matplotlib notebook\n",
    "%run utils.py"
   ]
  },
  {
   "cell_type": "code",
   "execution_count": 24,
   "metadata": {
    "ExecuteTime": {
     "end_time": "2017-11-17T02:26:08.958074Z",
     "start_time": "2017-11-17T02:26:08.952042Z"
    },
    "collapsed": true
   },
   "outputs": [],
   "source": [
    "D_in, H, D_out = 36, 50, 1\n",
    "model = nn.Sequential(\n",
    "    nn.Linear(D_in, H, bias=False),\n",
    "    nn.Tanh(),\n",
    "    nn.Linear(H, D_out, bias=False),\n",
    ")"
   ]
  },
  {
   "cell_type": "code",
   "execution_count": 27,
   "metadata": {
    "ExecuteTime": {
     "end_time": "2017-11-17T02:49:22.572780Z",
     "start_time": "2017-11-17T02:29:27.625056Z"
    }
   },
   "outputs": [
    {
     "name": "stdout",
     "output_type": "stream",
     "text": [
      "\n"
     ]
    }
   ],
   "source": [
    "loss_fn = torch.nn.MSELoss()\n",
    "learning_rate = 1e-4\n",
    "\n",
    "num_epochs = 10\n",
    "with tqdm(total=num_epochs*896) as pbar:\n",
    "    for epoch in range(num_epochs):\n",
    "        df_iter = pd.read_csv('data/yellow_tripdata_2009-01_train.csv', chunksize=10000)\n",
    "        total_loss = 0\n",
    "        count = 0\n",
    "        for df in df_iter:\n",
    "            x, y = df_to_torch(df)\n",
    "            pbar.update(1)\n",
    "            # Forward pass: compute predicted y by passing x to the model. Module objects\n",
    "            # override the call operator so you can call them like functions. When\n",
    "            # doing so you pass a Variable of input data to the Module and it produces\n",
    "            # a Variable of output data.\n",
    "            y_pred = model(x)\n",
    "\n",
    "            # Compute and print loss. We pass Variables containing the predicted and true\n",
    "            # values of y, and the loss function returns a Variable containing the loss.\n",
    "            loss = loss_fn(y_pred, y)\n",
    "            total_loss += loss.data[0]\n",
    "            count += 1\n",
    "            print(total_loss/count)\n",
    "            clear_output(wait=True)\n",
    "                \n",
    "            # Zero the gradients before running the backward pass.\n",
    "            model.zero_grad()\n",
    "\n",
    "            # Backward pass: compute gradient of the loss with respect to all the learnable\n",
    "            # parameters of the model. Internally, the parameters of each Module are stored\n",
    "            # in Variables with requires_grad=True, so this call will compute gradients for\n",
    "            # all learnable parameters in the model.\n",
    "            loss.backward()\n",
    "\n",
    "            # Update the weights using gradient descent. Each parameter is a Variable, so\n",
    "            # we can access its data and gradients like we did before.\n",
    "            for param in model.parameters():\n",
    "                param.data -= learning_rate * param.grad.data\n",
    "            #pdb.set_trace()\n",
    "        print('epoch', epoch, 'loss', total_loss/13484000)\n",
    "        clear_output(wait=True)"
   ]
  },
  {
   "cell_type": "code",
   "execution_count": 33,
   "metadata": {
    "ExecuteTime": {
     "end_time": "2017-11-17T02:53:52.668347Z",
     "start_time": "2017-11-17T02:53:43.242291Z"
    }
   },
   "outputs": [
    {
     "data": {
      "application/vnd.jupyter.widget-view+json": {
       "model_id": "ab3eca10a2404c09b027af9626b658b1"
      }
     },
     "metadata": {},
     "output_type": "display_data"
    },
    {
     "name": "stdout",
     "output_type": "stream",
     "text": [
      "\n"
     ]
    }
   ],
   "source": [
    "errs = []\n",
    "test_iter = pd.read_csv('data/yellow_tripdata_2009-01_test.csv', chunksize=100000)\n",
    "for df in tqdm(test_iter):\n",
    "    x, y = df_to_torch(df)\n",
    "    errs += list((y - model(x).squeeze()).data.numpy()/60)"
   ]
  },
  {
   "cell_type": "code",
   "execution_count": 34,
   "metadata": {
    "ExecuteTime": {
     "end_time": "2017-11-17T02:54:00.106658Z",
     "start_time": "2017-11-17T02:53:59.930627Z"
    }
   },
   "outputs": [],
   "source": [
    "errs = np.array(errs)"
   ]
  },
  {
   "cell_type": "code",
   "execution_count": 40,
   "metadata": {
    "ExecuteTime": {
     "end_time": "2017-11-17T02:55:41.990455Z",
     "start_time": "2017-11-17T02:55:41.957553Z"
    }
   },
   "outputs": [
    {
     "data": {
      "text/plain": [
       "15.059442081451341"
      ]
     },
     "execution_count": 40,
     "metadata": {},
     "output_type": "execute_result"
    }
   ],
   "source": [
    "np.percentile(np.abs(errs),99)"
   ]
  },
  {
   "cell_type": "code",
   "execution_count": 32,
   "metadata": {
    "ExecuteTime": {
     "end_time": "2017-11-17T02:53:39.962901Z",
     "start_time": "2017-11-17T02:53:39.957959Z"
    }
   },
   "outputs": [
    {
     "data": {
      "text/plain": [
       "[4, 5]"
      ]
     },
     "execution_count": 32,
     "metadata": {},
     "output_type": "execute_result"
    }
   ],
   "source": [
    "errs"
   ]
  },
  {
   "cell_type": "code",
   "execution_count": 46,
   "metadata": {
    "scrolled": false
   },
   "outputs": [
    {
     "data": {
      "text/plain": [
       "20.490866306984547"
      ]
     },
     "execution_count": 46,
     "metadata": {},
     "output_type": "execute_result"
    }
   ],
   "source": [
    "np.mean(stds)"
   ]
  },
  {
   "cell_type": "code",
   "execution_count": 37,
   "metadata": {
    "scrolled": true
   },
   "outputs": [
    {
     "data": {
      "text/plain": [
       "count    10000.000000\n",
       "mean         0.190011\n",
       "std          7.169688\n",
       "min        -25.187225\n",
       "25%         -1.708399\n",
       "50%         -0.226886\n",
       "75%          1.536333\n",
       "max        436.553894\n",
       "dtype: float64"
      ]
     },
     "execution_count": 37,
     "metadata": {},
     "output_type": "execute_result"
    }
   ],
   "source": [
    "pd.Series(((y - model(x).squeeze())/60).data.numpy()).describe()"
   ]
  },
  {
   "cell_type": "code",
   "execution_count": 28,
   "metadata": {},
   "outputs": [
    {
     "data": {
      "text/plain": [
       "Variable containing:\n",
       "-10200\n",
       "[torch.FloatTensor of size 1]"
      ]
     },
     "execution_count": 28,
     "metadata": {},
     "output_type": "execute_result"
    }
   ],
   "source": []
  },
  {
   "cell_type": "code",
   "execution_count": 31,
   "metadata": {
    "scrolled": false
   },
   "outputs": [
    {
     "data": {
      "text/plain": [
       "count    10000.000000\n",
       "mean        -0.138526\n",
       "std         20.105570\n",
       "min       -198.264816\n",
       "25%         -2.602337\n",
       "50%         -0.584000\n",
       "75%          1.422255\n",
       "max       1117.378784\n",
       "dtype: float64"
      ]
     },
     "execution_count": 31,
     "metadata": {},
     "output_type": "execute_result"
    }
   ],
   "source": [
    "pd.Series(((y - model(x).squeeze()) / 60).data.numpy()).describe()"
   ]
  },
  {
   "cell_type": "code",
   "execution_count": 53,
   "metadata": {},
   "outputs": [
    {
     "name": "stdout",
     "output_type": "stream",
     "text": [
      "Parameter containing:\n",
      "-8.7181e-02 -1.4039e-01  5.5304e-02  ...  -1.4271e-01 -7.6074e-02 -8.5804e-02\n",
      "-2.1665e-02 -1.1186e-01  4.0417e-02  ...   1.5005e-01 -1.2282e-01 -5.4708e-02\n",
      " 1.4068e-01 -5.6900e-02 -5.8072e-02  ...   7.2092e-02 -1.4730e-01  6.4929e-03\n",
      "                ...                   ⋱                   ...                \n",
      " 1.2554e-01 -8.7601e-02 -4.9987e-02  ...   1.3063e-01  1.2294e-01  7.8344e-02\n",
      " 1.5451e-01 -3.6101e-03  1.5144e-01  ...  -8.1832e-02 -3.9803e-02 -1.3775e-01\n",
      " 3.2955e-02 -1.1569e-01 -7.3116e-02  ...   8.0871e-02 -4.3422e-02 -1.1847e-02\n",
      "[torch.FloatTensor of size 1000x36]\n",
      "\n",
      "Parameter containing:\n",
      " 2.5063e-02  2.7433e-02  9.6065e-03  ...  -6.6510e-03 -4.0478e-03  5.4308e-03\n",
      " 2.2791e-02 -3.2669e-03  2.6060e-02  ...   3.1538e-02  2.0528e-02 -1.1208e-02\n",
      "-1.8972e-02  3.1786e-02  1.7345e-02  ...   2.4548e-02 -2.0717e-02 -1.6142e-02\n",
      "                ...                   ⋱                   ...                \n",
      " 3.4726e-02 -2.2916e-03 -2.8864e-02  ...  -1.6556e-02 -2.5371e-03 -6.5278e-03\n",
      " 1.0554e-02 -5.4028e-03  3.0808e-02  ...   1.1839e-03 -6.7940e-04 -1.1018e-02\n",
      " 1.9897e-02  5.4740e-04  1.4259e-02  ...  -5.2038e-03  2.9080e-02  6.5308e-03\n",
      "[torch.FloatTensor of size 1000x1000]\n",
      "\n",
      "Parameter containing:\n",
      "-0.4157  0.4563 -0.4142  ...   0.4423  0.4183 -0.4467\n",
      "[torch.FloatTensor of size 1x1000]\n",
      "\n"
     ]
    }
   ],
   "source": [
    "for param in model.parameters():\n",
    "    print(param)"
   ]
  },
  {
   "cell_type": "code",
   "execution_count": null,
   "metadata": {
    "collapsed": true
   },
   "outputs": [],
   "source": []
  }
 ],
 "metadata": {
  "hide_input": false,
  "kernelspec": {
   "display_name": "Python 3",
   "language": "python",
   "name": "python3"
  },
  "language_info": {
   "codemirror_mode": {
    "name": "ipython",
    "version": 3
   },
   "file_extension": ".py",
   "mimetype": "text/x-python",
   "name": "python",
   "nbconvert_exporter": "python",
   "pygments_lexer": "ipython3",
   "version": "3.6.1"
  },
  "toc": {
   "colors": {
    "hover_highlight": "#DAA520",
    "navigate_num": "#000000",
    "navigate_text": "#333333",
    "running_highlight": "#FF0000",
    "selected_highlight": "#FFD700",
    "sidebar_border": "#EEEEEE",
    "wrapper_background": "#FFFFFF"
   },
   "moveMenuLeft": true,
   "nav_menu": {
    "height": "11px",
    "width": "252px"
   },
   "navigate_menu": true,
   "number_sections": true,
   "sideBar": true,
   "threshold": 4,
   "toc_cell": false,
   "toc_section_display": "block",
   "toc_window_display": false,
   "widenNotebook": false
  }
 },
 "nbformat": 4,
 "nbformat_minor": 2
}
