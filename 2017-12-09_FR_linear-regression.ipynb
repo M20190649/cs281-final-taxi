{
 "cells": [
  {
   "cell_type": "markdown",
   "metadata": {},
   "source": [
    "# Linear Regression (back to the classics)"
   ]
  },
  {
   "cell_type": "code",
   "execution_count": 26,
   "metadata": {},
   "outputs": [],
   "source": [
    "import numpy as np\n",
    "import pandas as pd\n",
    "import statsmodels.formula.api as smf\n",
    "\n",
    "import matplotlib.pyplot as plt\n",
    "import seaborn.apionly as sns\n",
    "\n",
    "%matplotlib inline"
   ]
  },
  {
   "cell_type": "code",
   "execution_count": 7,
   "metadata": {},
   "outputs": [
    {
     "name": "stdout",
     "output_type": "stream",
     "text": [
      "CPU times: user 81.6 ms, sys: 12.3 ms, total: 93.9 ms\n",
      "Wall time: 94 ms\n"
     ]
    }
   ],
   "source": [
    "%%time\n",
    "\n",
    "train_df = pd.read_csv('data/split/JC_week1_hour8_40x140.csv')\n",
    "test_df = pd.read_csv('data/split_test/JC_week1_hour8_test_40x140.csv')"
   ]
  },
  {
   "cell_type": "code",
   "execution_count": 8,
   "metadata": {},
   "outputs": [],
   "source": [
    "test_df['d'] = (test_df.sx - test_df.tx)**2 + (test_df.sy - test_df.ty)**2\n",
    "train_df['d'] = (train_df.sx - train_df.tx)**2 + (train_df.sy - train_df.ty)**2"
   ]
  },
  {
   "cell_type": "code",
   "execution_count": 10,
   "metadata": {},
   "outputs": [],
   "source": [
    "fit = smf.ols('duration ~ d', data=train_df).fit()"
   ]
  },
  {
   "cell_type": "code",
   "execution_count": 11,
   "metadata": {},
   "outputs": [
    {
     "name": "stdout",
     "output_type": "stream",
     "text": [
      "                   Results: Ordinary least squares\n",
      "=====================================================================\n",
      "Model:              OLS              Adj. R-squared:     0.356       \n",
      "Dependent Variable: duration         AIC:                1110804.4800\n",
      "Date:               2017-12-09 14:38 BIC:                1110823.0131\n",
      "No. Observations:   78162            Log-Likelihood:     -5.5540e+05 \n",
      "Df Model:           1                F-statistic:        4.322e+04   \n",
      "Df Residuals:       78160            Prob (F-statistic): 0.00        \n",
      "R-squared:          0.356            Scale:              87000.      \n",
      "----------------------------------------------------------------------\n",
      "               Coef.    Std.Err.     t      P>|t|    [0.025    0.975] \n",
      "----------------------------------------------------------------------\n",
      "Intercept     505.6847    1.2381  408.4217  0.0000  503.2579  508.1114\n",
      "d               0.2581    0.0012  207.9049  0.0000    0.2556    0.2605\n",
      "---------------------------------------------------------------------\n",
      "Omnibus:             32277.815      Durbin-Watson:         1.992     \n",
      "Prob(Omnibus):       0.000          Jarque-Bera (JB):      525610.896\n",
      "Skew:                1.560          Prob(JB):              0.000     \n",
      "Kurtosis:            15.315         Condition No.:         1171      \n",
      "=====================================================================\n",
      "* The condition number is large (1e+03). This might indicate\n",
      "strong multicollinearity or other numerical problems.\n"
     ]
    }
   ],
   "source": [
    "print(fit.summary2())"
   ]
  },
  {
   "cell_type": "code",
   "execution_count": 13,
   "metadata": {},
   "outputs": [],
   "source": [
    "test_df['predict_duration'] = fit.predict(test_df)"
   ]
  },
  {
   "cell_type": "code",
   "execution_count": 18,
   "metadata": {},
   "outputs": [],
   "source": [
    "test_df['err'] = (test_df['duration'] - test_df['predict_duration']) / 60"
   ]
  },
  {
   "cell_type": "code",
   "execution_count": 27,
   "metadata": {},
   "outputs": [
    {
     "data": {
      "image/png": "[encoded data removed]",
      "text/plain": [
       "<matplotlib.figure.Figure at 0x118a495c0>"
      ]
     },
     "metadata": {},
     "output_type": "display_data"
    }
   ],
   "source": [
    "plt.hist(test_df.err, bins=np.arange(-50,50,1));\n",
    "sns.despine()"
   ]
  },
  {
   "cell_type": "code",
   "execution_count": 24,
   "metadata": {},
   "outputs": [],
   "source": [
    "stat = {\n",
    "    'sd_duration' : df['duration'].std()/60,\n",
    "    'mean_err': test_df.err.mean(),\n",
    "    'sd_err': test_df.err.std(),\n",
    "    'mean_abs_err': test_df.err.abs().mean(),\n",
    "    'median_abs_err': test_df.err.abs().median(),\n",
    "    '99pct_abs_err' : np.percentile(test_df.err.abs(), 99),\n",
    "    'test_r2' : 1 - np.std(test_df.err) ** 2 / ((df['duration'].std()/60) ** 2)\n",
    "}\n"
   ]
  },
  {
   "cell_type": "code",
   "execution_count": 25,
   "metadata": {},
   "outputs": [
    {
     "data": {
      "text/plain": [
       "{'99pct_abs_err': 16.624779487950104,\n",
       " 'mean_abs_err': 3.604333004355759,\n",
       " 'mean_err': -0.04587074577055046,\n",
       " 'median_abs_err': 2.9339563147096213,\n",
       " 'sd_duration': 6.1262537288617,\n",
       " 'sd_err': 5.006040007658989,\n",
       " 'test_r2': 0.33234226665004385}"
      ]
     },
     "execution_count": 25,
     "metadata": {},
     "output_type": "execute_result"
    }
   ],
   "source": [
    "stat"
   ]
  },
  {
   "cell_type": "code",
   "execution_count": null,
   "metadata": {},
   "outputs": [],
   "source": []
  }
 ],
 "metadata": {
  "kernelspec": {
   "display_name": "Python 3",
   "language": "python",
   "name": "python3"
  },
  "language_info": {
   "codemirror_mode": {
    "name": "ipython",
    "version": 3
   },
   "file_extension": ".py",
   "mimetype": "text/x-python",
   "name": "python",
   "nbconvert_exporter": "python",
   "pygments_lexer": "ipython3",
   "version": "3.6.1"
  }
 },
 "nbformat": 4,
 "nbformat_minor": 2
}
