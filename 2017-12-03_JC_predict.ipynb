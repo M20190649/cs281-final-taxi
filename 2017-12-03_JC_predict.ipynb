{
 "cells": [
  {
   "cell_type": "code",
   "execution_count": 6,
   "metadata": {},
   "outputs": [
    {
     "name": "stdout",
     "output_type": "stream",
     "text": [
      "The Cython extension is already loaded. To reload it, use:\n",
      "  %reload_ext Cython\n"
     ]
    }
   ],
   "source": [
    "import pandas as pd\n",
    "import geopandas as gpd\n",
    "from matplotlib import pyplot as plt\n",
    "from numpy import clip\n",
    "from torch.autograd import Variable\n",
    "import torch\n",
    "from torch import Tensor\n",
    "from torch.optim import SGD, Adam\n",
    "from IPython.display import clear_output\n",
    "import ipywidgets as widgets\n",
    "from ipywidgets import interact\n",
    "from torch.nn.functional import softplus\n",
    "w = widgets.IntText()\n",
    "%matplotlib inline\n",
    "%run utils.py\n",
    "%load_ext Cython\n",
    "from numpy.random import permutation\n",
    "M, N = 20, 70\n",
    "\n",
    "# file to run model on\n",
    "filename = 'data/split/JC_week1_hour4_40x140.csv'\n",
    "\n",
    "def log_sum_exp(value):\n",
    "    m = torch.max(value)\n",
    "    sum_exp = torch.sum(torch.exp(value - m))\n",
    "    return m + torch.log(sum_exp)"
   ]
  },
  {
   "cell_type": "code",
   "execution_count": 7,
   "metadata": {},
   "outputs": [],
   "source": [
    "%%cython \n",
    "import numpy as np\n",
    "cimport numpy as np\n",
    "\n",
    "cdef int M = 20\n",
    "cdef int N = 70\n",
    "DTYPE = int\n",
    "ctypedef np.int_t DTYPE_t\n",
    "\n",
    "\n",
    "def random_path(int sx, int sy, int tx, int ty, int L):\n",
    "    \"\"\"sample L random paths from sx, sy to tx, ty\"\"\"\n",
    "    cdef int hor_dir, ver_dir, X, Y, XY\n",
    "    \n",
    "    hor_dir = (tx - sx) > 0\n",
    "    ver_dir = (ty - sy) > 0\n",
    "    \n",
    "    cdef np.ndarray[DTYPE_t, ndim=3] paths = np.zeros([M, N, L], dtype=DTYPE)\n",
    "    paths[sx,sy,:] = 1\n",
    "    \n",
    "    X = abs(tx - sx) \n",
    "    Y = abs(ty - sy) \n",
    "    XY = X + Y\n",
    "    \n",
    "    cdef np.ndarray[DTYPE_t, ndim=1] path = np.zeros(X+Y, dtype=DTYPE)\n",
    "    path[:X] = 1\n",
    "    \n",
    "    cdef int l, i, x, y\n",
    "\n",
    "    for l in range(L):\n",
    "        x, y = sx, sy\n",
    "        np.random.shuffle(path)\n",
    "        for i in range(XY):\n",
    "            if path[i]:\n",
    "                x += 2 * hor_dir - 1\n",
    "            else:\n",
    "                y += 2 * ver_dir - 1\n",
    "            paths[x,y,l] = 1\n",
    "    return paths"
   ]
  },
  {
   "cell_type": "code",
   "execution_count": 8,
   "metadata": {},
   "outputs": [],
   "source": [
    "L = 50\n",
    "s2 = 10 ** 2 # sigma2 = (10 s) ** 2"
   ]
  },
  {
   "cell_type": "code",
   "execution_count": 55,
   "metadata": {},
   "outputs": [
    {
     "data": {
      "application/vnd.jupyter.widget-view+json": {
       "model_id": "dfe0fd22dca7439e8900d5912b26b0b5",
       "version_major": 2,
       "version_minor": 0
      },
      "text/plain": [
       "A Jupyter Widget"
      ]
     },
     "metadata": {},
     "output_type": "display_data"
    },
    {
     "name": "stdout",
     "output_type": "stream",
     "text": [
      "\n"
     ]
    },
    {
     "data": {
      "application/vnd.jupyter.widget-view+json": {
       "model_id": "4958470e25c84782b56e8ea28a752c7d",
       "version_major": 2,
       "version_minor": 0
      },
      "text/plain": [
       "A Jupyter Widget"
      ]
     },
     "metadata": {},
     "output_type": "display_data"
    },
    {
     "name": "stdout",
     "output_type": "stream",
     "text": [
      "\n"
     ]
    },
    {
     "data": {
      "application/vnd.jupyter.widget-view+json": {
       "model_id": "93c16f6626e54e53b48171cd29aab1a4",
       "version_major": 2,
       "version_minor": 0
      },
      "text/plain": [
       "A Jupyter Widget"
      ]
     },
     "metadata": {},
     "output_type": "display_data"
    },
    {
     "name": "stdout",
     "output_type": "stream",
     "text": [
      "\n"
     ]
    },
    {
     "data": {
      "application/vnd.jupyter.widget-view+json": {
       "model_id": "0bc32b0e83094051bb5b36d2dc958feb",
       "version_major": 2,
       "version_minor": 0
      },
      "text/plain": [
       "A Jupyter Widget"
      ]
     },
     "metadata": {},
     "output_type": "display_data"
    },
    {
     "name": "stdout",
     "output_type": "stream",
     "text": [
      "\n"
     ]
    },
    {
     "data": {
      "application/vnd.jupyter.widget-view+json": {
       "model_id": "72e47941671c4e5aa3fd57eedef73b66",
       "version_major": 2,
       "version_minor": 0
      },
      "text/plain": [
       "A Jupyter Widget"
      ]
     },
     "metadata": {},
     "output_type": "display_data"
    },
    {
     "name": "stdout",
     "output_type": "stream",
     "text": [
      "\n"
     ]
    },
    {
     "data": {
      "application/vnd.jupyter.widget-view+json": {
       "model_id": "61d59e9aae0c426295cc541a06cda4fa",
       "version_major": 2,
       "version_minor": 0
      },
      "text/plain": [
       "A Jupyter Widget"
      ]
     },
     "metadata": {},
     "output_type": "display_data"
    },
    {
     "name": "stdout",
     "output_type": "stream",
     "text": [
      "\n"
     ]
    },
    {
     "data": {
      "application/vnd.jupyter.widget-view+json": {
       "model_id": "1cb7000bad6445afb18e4da57bb6da0d",
       "version_major": 2,
       "version_minor": 0
      },
      "text/plain": [
       "A Jupyter Widget"
      ]
     },
     "metadata": {},
     "output_type": "display_data"
    },
    {
     "name": "stdout",
     "output_type": "stream",
     "text": [
      "\n"
     ]
    }
   ],
   "source": [
    "Losses = []\n",
    "for hour in [0,4,8,10,12,18,20]:\n",
    "    filename = 'data/split_test/JC_week1_hour{}_test_40x140.csv'.format(hour)\n",
    "    weight = softplus(Variable(Tensor(\n",
    "        np.load('results/weights_week1hour{}_1.npy'.format(hour)))))\n",
    "    df = pd.read_csv(filename)\n",
    "    losses = []\n",
    "    with tqdm(total=len(df)) as pbar:\n",
    "        for _, duration, sx, sy, tx, ty in df.itertuples():\n",
    "            pbar.update(1)\n",
    "            paths = random_path(int(sx), int(sy), \n",
    "                                int(tx), int(ty), L)\n",
    "            pred = (weight.unsqueeze(-1) * Variable(Tensor(paths.astype(float)))).sum() / L\n",
    "            loss = duration - pred.data[0]\n",
    "            losses.append(loss)\n",
    "        Losses.append(np.array(losses)/60)"
   ]
  },
  {
   "cell_type": "code",
   "execution_count": null,
   "metadata": {},
   "outputs": [],
   "source": []
  },
  {
   "cell_type": "code",
   "execution_count": 9,
   "metadata": {},
   "outputs": [
    {
     "data": {
      "application/vnd.jupyter.widget-view+json": {
       "model_id": "84572c27a7e748318a703bd40cc149a4",
       "version_major": 2,
       "version_minor": 0
      },
      "text/plain": [
       "A Jupyter Widget"
      ]
     },
     "metadata": {},
     "output_type": "display_data"
    },
    {
     "name": "stdout",
     "output_type": "stream",
     "text": [
      "\n"
     ]
    }
   ],
   "source": [
    "filename = 'data/split_test/JC_week1_hour8_test_40x140.csv'\n",
    "weight = softplus(Variable(Tensor(\n",
    "    np.load('results/weights_week1hour8_4.npy'))))\n",
    "df = pd.read_csv(filename)\n",
    "df[['sx', 'sy','tx','ty']] = df[['sx', 'sy','tx','ty']] // 2\n",
    "losses = []\n",
    "with tqdm(total=len(df)) as pbar:\n",
    "    for _, duration, sx, sy, tx, ty in df.itertuples():\n",
    "        pbar.update(1)\n",
    "        paths = random_path(int(sx), int(sy), \n",
    "                            int(tx), int(ty), L)\n",
    "        pred = (weight.unsqueeze(-1) * Variable(Tensor(paths.astype(float)))).sum() / L\n",
    "        loss = duration - pred.data[0]\n",
    "        losses.append(loss)\n",
    "    # Losses.append(np.array(losses)/60)"
   ]
  },
  {
   "cell_type": "code",
   "execution_count": 34,
   "metadata": {},
   "outputs": [
    {
     "data": {
      "text/plain": [
       "<Container object of 199 artists>"
      ]
     },
     "execution_count": 34,
     "metadata": {},
     "output_type": "execute_result"
    },
    {
     "data": {
      "image/png": "[encoded data removed]",
      "text/plain": [
       "<matplotlib.figure.Figure at 0x11d5ace10>"
      ]
     },
     "metadata": {},
     "output_type": "display_data"
    }
   ],
   "source": [
    "bins = np.arange(0,20,0.1)\n",
    "x, _ = np.histogram(((pd.Series(losses))/60).abs(), bins)\n",
    "y, _ = np.histogram(((pd.Series(losses)\n",
    "                      - pd.Series(losses).mean())/60).abs(),\n",
    "                   bins)\n",
    "plt.bar(bins[1:], x-y, 0.1)\n",
    "\n",
    "# np.histogram\n",
    "# ((pd.Series(losses))/60).abs().hist(alpha=0.5,bins=)\n",
    "# ((pd.Series(losses) - pd.Series(losses).mean())/60).abs().hist(alpha=0.5,bins=np.arange(0,20,0.1))\n"
   ]
  },
  {
   "cell_type": "code",
   "execution_count": 36,
   "metadata": {},
   "outputs": [
    {
     "data": {
      "text/plain": [
       "<matplotlib.axes._subplots.AxesSubplot at 0x11e2e1a20>"
      ]
     },
     "execution_count": 36,
     "metadata": {},
     "output_type": "execute_result"
    },
    {
     "data": {
      "image/png": "[encoded data removed]",
      "text/plain": [
       "<matplotlib.figure.Figure at 0x11d26b710>"
      ]
     },
     "metadata": {},
     "output_type": "display_data"
    }
   ],
   "source": [
    "# np.histogram\n",
    "((pd.Series(losses))/60).abs().hist(alpha=0.5,bins=bins)\n",
    "((pd.Series(losses) - pd.Series(losses).mean())/60).abs().hist(alpha=0.5,bins=np.arange(0,20,0.1))\n"
   ]
  },
  {
   "cell_type": "code",
   "execution_count": 43,
   "metadata": {},
   "outputs": [
    {
     "data": {
      "text/plain": [
       "0.80079481220987891"
      ]
     },
     "execution_count": 43,
     "metadata": {},
     "output_type": "execute_result"
    }
   ],
   "source": [
    "np.array(losses).mean()/60"
   ]
  },
  {
   "cell_type": "code",
   "execution_count": 1,
   "metadata": {},
   "outputs": [],
   "source": [
    "from pickle import dump, load"
   ]
  },
  {
   "cell_type": "code",
   "execution_count": null,
   "metadata": {},
   "outputs": [],
   "source": [
    "dump(Losses, open('results/losses_JC_model.pickle','wb'))"
   ]
  },
  {
   "cell_type": "code",
   "execution_count": 2,
   "metadata": {},
   "outputs": [],
   "source": [
    "Losses = load(open('results/losses_JC_model.pickle','rb'))"
   ]
  },
  {
   "cell_type": "code",
   "execution_count": 8,
   "metadata": {},
   "outputs": [],
   "source": [
    "sds = []\n",
    "for hour in ([0,4,8,10,12,18,20]):\n",
    "    df = pd.read_csv('data/split_test/JC_week1_hour{}_test_40x140.csv'.format(hour))\n",
    "    sds.append(df['duration'].std()/60)"
   ]
  },
  {
   "cell_type": "code",
   "execution_count": 16,
   "metadata": {},
   "outputs": [],
   "source": [
    "preds = pd.DataFrame({\n",
    "    'Std(duration)' : sds,\n",
    "    'Mean(error)' : list(map(lambda x : x.mean(), Losses)),\n",
    "    'Std(error)' : list(map(lambda x : x.std(), Losses)),\n",
    "    'Mean(|error|)' : list(map(lambda x : np.abs(x).mean(), Losses)),\n",
    "    'Std(|error|)' : list(map(lambda x : np.abs(x).std(), Losses)),\n",
    "    'Median(|error|)' : list(map(lambda x : np.percentile(np.abs(x),50), Losses)),\n",
    "    '99pctl(|error|)' : list(map(lambda x : np.percentile(np.abs(x),99), Losses))\n",
    "}, index=[0,4,8,10,12,18,20])"
   ]
  },
  {
   "cell_type": "code",
   "execution_count": 18,
   "metadata": {},
   "outputs": [],
   "source": [
    "preds['Imputed R^2'] = 1 - (preds['Std(error)'] / preds['Std(duration)']) ** 2"
   ]
  },
  {
   "cell_type": "code",
   "execution_count": 26,
   "metadata": {},
   "outputs": [],
   "source": [
    "preds = preds[['Std(duration)', 'Mean(error)', 'Std(error)', 'Mean(|error|)', 'Std(|error|)', 'Median(|error|)', '99pctl(|error|)', 'Imputed R^2']]"
   ]
  },
  {
   "cell_type": "code",
   "execution_count": 28,
   "metadata": {},
   "outputs": [],
   "source": [
    "preds.index.name = 'Hour of day'"
   ]
  },
  {
   "cell_type": "code",
   "execution_count": 38,
   "metadata": {},
   "outputs": [
    {
     "name": "stdout",
     "output_type": "stream",
     "text": [
      "\\begin{tabular}{lrrrrrrr}\n",
      "\\toprule\n",
      "Hour of day &    0  &    4  &    8  &    10 &    12 &    18 &    20 \\\\\n",
      "\\midrule\n",
      "Std(duration)   &  5.23 &  5.00 &  6.22 &  6.07 &  6.34 &  5.73 &  4.92 \\\\\n",
      "Mean(error)     &  0.86 &  0.68 &  0.83 &  0.82 &  1.01 &  0.86 &  0.85 \\\\\n",
      "Std(error)      &  3.85 &  3.53 &  4.34 &  4.43 &  4.79 &  3.86 &  3.43 \\\\\n",
      "Mean(|error|)   &  2.27 &  2.12 &  2.87 &  2.96 &  2.90 &  2.62 &  2.30 \\\\\n",
      "Std(|error|)    &  3.23 &  2.91 &  3.35 &  3.39 &  3.95 &  2.96 &  2.69 \\\\\n",
      "Median(|error|) &  1.47 &  1.32 &  1.94 &  1.96 &  1.87 &  1.82 &  1.58 \\\\\n",
      "99pctl(|error|) & 14.76 & 14.94 & 15.06 & 14.67 & 16.35 & 13.37 & 12.39 \\\\\n",
      "Imputed R\\textasciicircum2     &  0.46 &  0.50 &  0.51 &  0.47 &  0.43 &  0.55 &  0.51 \\\\\n",
      "\\bottomrule\n",
      "\\end{tabular}\n",
      "\n"
     ]
    }
   ],
   "source": [
    "print(preds.transpose().to_latex(float_format='%.2f'))"
   ]
  },
  {
   "cell_type": "code",
   "execution_count": 2,
   "metadata": {},
   "outputs": [],
   "source": [
    "loss = np.load('results/losses_week1hour8_1.npy')"
   ]
  },
  {
   "cell_type": "code",
   "execution_count": 23,
   "metadata": {},
   "outputs": [
    {
     "data": {
      "image/png": "[encoded data removed]",
      "text/plain": [
       "<matplotlib.figure.Figure at 0x12fd1db70>"
      ]
     },
     "metadata": {},
     "output_type": "display_data"
    }
   ],
   "source": [
    "plt.figure(figsize=(5,2))\n",
    "plt.plot(loss.cumsum()/np.arange(1,1+len(loss)))\n",
    "plt.xscale('log')\n",
    "plt.title('Average loss for second inference for hour = 8')\n",
    "plt.savefig('figs/error_8h.png', dpi=1000)"
   ]
  },
  {
   "cell_type": "code",
   "execution_count": 13,
   "metadata": {},
   "outputs": [
    {
     "data": {
      "text/plain": [
       "[<matplotlib.lines.Line2D at 0x11c6cf940>]"
      ]
     },
     "execution_count": 13,
     "metadata": {},
     "output_type": "execute_result"
    },
    {
     "data": {
      "image/png": "[encoded data removed]",
      "text/plain": [
       "<matplotlib.figure.Figure at 0x11c6cd710>"
      ]
     },
     "metadata": {},
     "output_type": "display_data"
    }
   ],
   "source": [
    "plt.plot(pd.Series(loss).rolling(window=390810//5).mean())"
   ]
  },
  {
   "cell_type": "code",
   "execution_count": null,
   "metadata": {},
   "outputs": [],
   "source": []
  }
 ],
 "metadata": {
  "kernelspec": {
   "display_name": "Python 3",
   "language": "python",
   "name": "python3"
  },
  "language_info": {
   "codemirror_mode": {
    "name": "ipython",
    "version": 3
   },
   "file_extension": ".py",
   "mimetype": "text/x-python",
   "name": "python",
   "nbconvert_exporter": "python",
   "pygments_lexer": "ipython3",
   "version": "3.6.3"
  }
 },
 "nbformat": 4,
 "nbformat_minor": 2
}
