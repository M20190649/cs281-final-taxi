{
 "cells": [
  {
   "cell_type": "code",
   "execution_count": 67,
   "metadata": {
    "ExecuteTime": {
     "end_time": "2017-11-17T02:35:14.763470Z",
     "start_time": "2017-11-17T02:35:14.750498Z"
    },
    "collapsed": true
   },
   "outputs": [],
   "source": [
    "import pandas as pd\n",
    "import geopandas as gpd\n",
    "\n",
    "from numpy import clip\n",
    "from torch.autograd import Variable\n",
    "import torch\n",
    "from torch import Tensor\n",
    "from torch.optim import SGD\n",
    "from IPython.display import clear_output\n",
    "import ipywidgets as widgets\n",
    "from ipywidgets import interact\n",
    "from scipy import special\n",
    "\n",
    "import matplotlib\n",
    "from matplotlib import pyplot as plt\n",
    "import seaborn.apionly as sns\n",
    "plt.style.use('clean')\n",
    "\n",
    "w = widgets.IntText()\n",
    "\n",
    "\n",
    "\n",
    "%matplotlib inline\n",
    "%run utils.py"
   ]
  },
  {
   "cell_type": "code",
   "execution_count": 2,
   "metadata": {},
   "outputs": [],
   "source": [
    "M, N = (20,70) "
   ]
  },
  {
   "cell_type": "code",
   "execution_count": 3,
   "metadata": {},
   "outputs": [],
   "source": [
    "def unif_path_weights(source, target):\n",
    "    sx, sy = source\n",
    "    tx, ty = target\n",
    "    x_d, y_d = abs(tx-sx), abs(ty-sy)\n",
    "    \n",
    "    x, y = np.meshgrid(range(x_d+1), range(y_d+1))\n",
    "    \n",
    "    paths1 = special.binom(x+y,x)\n",
    "    paths2 = special.binom(x_d+y_d-x-y, x_d-x)\n",
    "    total_paths = special.binom(x_d+y_d,x_d)\n",
    "    \n",
    "    small_grid = (paths1 * paths2 / total_paths).T\n",
    "    \n",
    "    if (tx-sx)*(ty-sy) < 0:\n",
    "        small_grid = small_grid[::-1, :]\n",
    "    \n",
    "    full_grid = np.zeros((M,N))\n",
    "    full_grid[min(sx, tx):max(sx,tx)+1, min(sy, ty):max(sy,ty)+1] = small_grid\n",
    "    \n",
    "    return full_grid"
   ]
  },
  {
   "cell_type": "code",
   "execution_count": 169,
   "metadata": {},
   "outputs": [
    {
     "data": {
      "text/plain": [
       "<matplotlib.image.AxesImage at 0x12e88ceb8>"
      ]
     },
     "execution_count": 169,
     "metadata": {},
     "output_type": "execute_result"
    },
    {
     "data": {
      "image/png": "[encoded data removed]",
      "text/plain": [
       "<matplotlib.figure.Figure at 0x12e94e128>"
      ]
     },
     "metadata": {},
     "output_type": "display_data"
    }
   ],
   "source": [
    "plt.imshow(unif_path_weights((10,50), (0,0)).T, origin='lower')"
   ]
  },
  {
   "cell_type": "code",
   "execution_count": 34,
   "metadata": {
    "ExecuteTime": {
     "end_time": "2017-11-17T02:35:44.784174Z",
     "start_time": "2017-11-17T02:35:44.774226Z"
    },
    "collapsed": true
   },
   "outputs": [],
   "source": [
    "weights = Variable((15 * torch.ones((M,N))).float(), requires_grad=True)"
   ]
  },
  {
   "cell_type": "code",
   "execution_count": 6,
   "metadata": {
    "ExecuteTime": {
     "end_time": "2017-11-17T02:35:45.561795Z",
     "start_time": "2017-11-17T02:35:44.811116Z"
    }
   },
   "outputs": [
    {
     "data": {
      "application/vnd.jupyter.widget-view+json": {
       "model_id": "499524559ef84a1aa6b7ee11fe8acbd1",
       "version_major": 2,
       "version_minor": 0
      },
      "text/html": [
       "<p>Failed to display Jupyter Widget of type <code>interactive</code>.</p>\n",
       "<p>\n",
       "  If you're reading this message in the Jupyter Notebook or JupyterLab Notebook, it may mean\n",
       "  that the widgets JavaScript is still loading. If this message persists, it\n",
       "  likely means that the widgets JavaScript library is either not installed or\n",
       "  not enabled. See the <a href=\"https://ipywidgets.readthedocs.io/en/stable/user_install.html\">Jupyter\n",
       "  Widgets Documentation</a> for setup instructions.\n",
       "</p>\n",
       "<p>\n",
       "  If you're reading this message in another frontend (for example, a static\n",
       "  rendering on GitHub or <a href=\"https://nbviewer.jupyter.org/\">NBViewer</a>),\n",
       "  it may mean that your frontend doesn't currently support widgets.\n",
       "</p>\n"
      ],
      "text/plain": [
       "interactive(children=(IntText(value=0, description='x'), Output()), _dom_classes=('widget-interact',))"
      ]
     },
     "metadata": {},
     "output_type": "display_data"
    }
   ],
   "source": [
    "@interact(x=w)\n",
    "def plot(x):\n",
    "    plt.figure(figsize=(10,10))\n",
    "    plt.imshow(torch.nn.functional.softplus(weights).data.numpy().T, \n",
    "               clim=(0,80), cmap='bwr', origin='lower')\n",
    "    plt.show()\n",
    "    "
   ]
  },
  {
   "cell_type": "code",
   "execution_count": 7,
   "metadata": {},
   "outputs": [],
   "source": [
    "def predict(sx, sy, tx, ty):\n",
    "    sx, sy, tx, ty = sx//2, sy//2, tx//2, ty//2\n",
    "    \n",
    "    source = (int(sx), int(sy))\n",
    "    target = (int(tx), int(ty))\n",
    "    path = unif_path_weights(source, target)\n",
    "    pred = (Variable(Tensor(path)) \n",
    "            * torch.nn.functional.softplus(weights)).sum()\n",
    "    return pred\n",
    "    \n",
    "def predict_num(sx, sy, tx, ty):\n",
    "    return predict(sx, sy, tx, ty).data[0]"
   ]
  },
  {
   "cell_type": "code",
   "execution_count": 165,
   "metadata": {},
   "outputs": [
    {
     "data": {
      "text/plain": [
       "70"
      ]
     },
     "execution_count": 165,
     "metadata": {},
     "output_type": "execute_result"
    }
   ],
   "source": [
    "N"
   ]
  },
  {
   "cell_type": "code",
   "execution_count": 35,
   "metadata": {
    "ExecuteTime": {
     "end_time": "2017-11-17T02:45:30.765821Z",
     "start_time": "2017-11-17T02:35:45.564048Z"
    }
   },
   "outputs": [
    {
     "data": {
      "application/vnd.jupyter.widget-view+json": {
       "model_id": "3ec35f68d4e24b39863238ea735f07cb",
       "version_major": 2,
       "version_minor": 0
      },
      "text/html": [
       "<p>Failed to display Jupyter Widget of type <code>HBox</code>.</p>\n",
       "<p>\n",
       "  If you're reading this message in the Jupyter Notebook or JupyterLab Notebook, it may mean\n",
       "  that the widgets JavaScript is still loading. If this message persists, it\n",
       "  likely means that the widgets JavaScript library is either not installed or\n",
       "  not enabled. See the <a href=\"https://ipywidgets.readthedocs.io/en/stable/user_install.html\">Jupyter\n",
       "  Widgets Documentation</a> for setup instructions.\n",
       "</p>\n",
       "<p>\n",
       "  If you're reading this message in another frontend (for example, a static\n",
       "  rendering on GitHub or <a href=\"https://nbviewer.jupyter.org/\">NBViewer</a>),\n",
       "  it may mean that your frontend doesn't currently support widgets.\n",
       "</p>\n"
      ],
      "text/plain": [
       "HBox(children=(IntProgress(value=0, max=852890), HTML(value='')))"
      ]
     },
     "metadata": {},
     "output_type": "display_data"
    },
    {
     "name": "stdout",
     "output_type": "stream",
     "text": [
      "\n"
     ]
    }
   ],
   "source": [
    "optimizer = SGD([weights], lr = 1e-4)\n",
    "num_epochs = 10\n",
    "\n",
    "df = pd.read_csv('data/split/JC_week1_hour18_40x140.csv')\n",
    "losses = []\n",
    "pbar = tqdm(total=num_epochs*len(df))\n",
    "for epoch in range(num_epochs):\n",
    "    for _, duration, sx, sy, tx, ty in df.sample(frac=1).itertuples():\n",
    "        pbar.update(1)\n",
    "        pred = predict(sx, sy, tx, ty)\n",
    "        loss = (pred - duration) ** 2\n",
    "        optimizer.zero_grad()\n",
    "        loss.backward()\n",
    "        optimizer.step()\n",
    "        losses.append(loss.data[0])"
   ]
  },
  {
   "cell_type": "code",
   "execution_count": 184,
   "metadata": {},
   "outputs": [
    {
     "data": {
      "application/vnd.jupyter.widget-view+json": {
       "model_id": "b4a354a76d5a41c69eabfdb947b3f82d",
       "version_major": 2,
       "version_minor": 0
      },
      "text/html": [
       "<p>Failed to display Jupyter Widget of type <code>HBox</code>.</p>\n",
       "<p>\n",
       "  If you're reading this message in the Jupyter Notebook or JupyterLab Notebook, it may mean\n",
       "  that the widgets JavaScript is still loading. If this message persists, it\n",
       "  likely means that the widgets JavaScript library is either not installed or\n",
       "  not enabled. See the <a href=\"https://ipywidgets.readthedocs.io/en/stable/user_install.html\">Jupyter\n",
       "  Widgets Documentation</a> for setup instructions.\n",
       "</p>\n",
       "<p>\n",
       "  If you're reading this message in another frontend (for example, a static\n",
       "  rendering on GitHub or <a href=\"https://nbviewer.jupyter.org/\">NBViewer</a>),\n",
       "  it may mean that your frontend doesn't currently support widgets.\n",
       "</p>\n"
      ],
      "text/plain": [
       "HBox(children=(IntProgress(value=0, max=3803), HTML(value='')))"
      ]
     },
     "metadata": {},
     "output_type": "display_data"
    }
   ],
   "source": [
    "updates = np.zeros((M,N))\n",
    "\n",
    "df = pd.read_csv('data/split/JC_week1_hour4_40x140.csv')\n",
    "pbar = tqdm(total=len(df))\n",
    "for _, duration, sx, sy, tx, ty in df.itertuples():\n",
    "    pbar.update(1)\n",
    "    source, target = (int(sx//2),int(sy//2)), (int(tx//2),int(ty//2))\n",
    "    updates += unif_path_weights(source, target)"
   ]
  },
  {
   "cell_type": "code",
   "execution_count": 190,
   "metadata": {},
   "outputs": [
    {
     "data": {
      "text/plain": [
       "<matplotlib.colorbar.Colorbar at 0x10c3ef2b0>"
      ]
     },
     "execution_count": 190,
     "metadata": {},
     "output_type": "execute_result"
    },
    {
     "data": {
      "image/png": "[encoded data removed]",
      "text/plain": [
       "<matplotlib.figure.Figure at 0x112431588>"
      ]
     },
     "metadata": {},
     "output_type": "display_data"
    }
   ],
   "source": [
    "x = plt.imshow(updates.T, cmap='Greys', clim=(0,200), origin='lower')\n",
    "plt.colorbar()"
   ]
  },
  {
   "cell_type": "code",
   "execution_count": 36,
   "metadata": {
    "ExecuteTime": {
     "end_time": "2017-11-15T19:18:29.344218Z",
     "start_time": "2017-11-15T19:18:29.335323Z"
    },
    "collapsed": true
   },
   "outputs": [
    {
     "data": {
      "text/plain": [
       "[<matplotlib.lines.Line2D at 0x122221e48>]"
      ]
     },
     "execution_count": 36,
     "metadata": {},
     "output_type": "execute_result"
    },
    {
     "data": {
      "image/png": "[encoded data removed]",
      "text/plain": [
       "<matplotlib.figure.Figure at 0x121886470>"
      ]
     },
     "metadata": {},
     "output_type": "display_data"
    }
   ],
   "source": [
    "plt.plot(pd.Series(losses).rolling(len(losses)//10).mean())"
   ]
  },
  {
   "cell_type": "code",
   "execution_count": 37,
   "metadata": {},
   "outputs": [
    {
     "name": "stdout",
     "output_type": "stream",
     "text": [
      "\r",
      "          \r",
      "852890/|/100%|| 852890/852890 [11:01<00:00, 1533.98it/s]"
     ]
    }
   ],
   "source": [
    "weights18 = weights.clone()"
   ]
  },
  {
   "cell_type": "code",
   "execution_count": 10,
   "metadata": {
    "ExecuteTime": {
     "end_time": "2017-11-15T04:04:06.458252Z",
     "start_time": "2017-11-15T04:04:05.992102Z"
    }
   },
   "outputs": [
    {
     "data": {
      "image/png": "[encoded data removed]",
      "text/plain": [
       "<matplotlib.figure.Figure at 0x120104160>"
      ]
     },
     "metadata": {},
     "output_type": "display_data"
    }
   ],
   "source": [
    "plt.hist((weights.data.numpy()[~np.isnan(weights.data.numpy())]));"
   ]
  },
  {
   "cell_type": "raw",
   "metadata": {
    "ExecuteTime": {
     "end_time": "2017-11-15T16:41:16.288107Z",
     "start_time": "2017-11-15T16:41:15.817540Z"
    }
   },
   "source": [
    "plt.hist(minute_loss[minute_loss < 40], bins=100);"
   ]
  },
  {
   "cell_type": "code",
   "execution_count": 13,
   "metadata": {},
   "outputs": [],
   "source": [
    "%run test.py"
   ]
  },
  {
   "cell_type": "code",
   "execution_count": 42,
   "metadata": {},
   "outputs": [],
   "source": [
    "np.save('results/unif_weights18.npy', weights18.data.numpy())"
   ]
  },
  {
   "cell_type": "code",
   "execution_count": 153,
   "metadata": {},
   "outputs": [],
   "source": [
    "mph_constant = 272.727272\n",
    "upper_lim = 17"
   ]
  },
  {
   "cell_type": "code",
   "execution_count": 154,
   "metadata": {},
   "outputs": [
    {
     "name": "stderr",
     "output_type": "stream",
     "text": [
      "/anaconda/envs/py36/lib/python3.6/site-packages/matplotlib/figure.py:1743: UserWarning: This figure includes Axes that are not compatible with tight_layout, so its results might be incorrect.\n",
      "  warnings.warn(\"This figure includes Axes that are not \"\n"
     ]
    },
    {
     "data": {
      "image/png": "[encoded data removed]",
      "text/plain": [
       "<matplotlib.figure.Figure at 0x12d4824a8>"
      ]
     },
     "metadata": {},
     "output_type": "display_data"
    }
   ],
   "source": [
    "cmap = matplotlib.colors.LinearSegmentedColormap.from_list('br1', \n",
    "    ['#E53935', '#FFFFFF', '#1E88E5'], N=1000)\n",
    "\n",
    "# cmap = matplotlib.colors.LinearSegmentedColormap.from_list('br1', \n",
    "#     ['#FFFFFF', '#000000'], N=1000)\n",
    "\n",
    "#plt.figure(figsize=(5,4))\n",
    "ax1 = plt.subplot(141)\n",
    "plt.imshow(mph_constant / torch.nn.functional.softplus(weights4).data.numpy().T, \n",
    "           clim=(0,upper_lim), cmap=cmap, origin='lower')\n",
    "plt.title('4AM')\n",
    "plt.xticks([])\n",
    "sns.despine(left=True, bottom=True)\n",
    "\n",
    "plt.subplot(142, sharey=ax1)\n",
    "plt.imshow(mph_constant / torch.nn.functional.softplus(weights8).data.numpy().T, \n",
    "           clim=(0,upper_lim), cmap=cmap, origin='lower')\n",
    "plt.title('8AM')\n",
    "plt.xticks([])\n",
    "sns.despine(left=True, bottom=True)\n",
    "\n",
    "plt.subplot(143, sharey=ax1)\n",
    "plt.imshow(mph_constant / torch.nn.functional.softplus(weights12).data.numpy().T, \n",
    "           clim=(0,upper_lim), cmap=cmap, origin='lower')\n",
    "plt.title('12PM')\n",
    "plt.xticks([])\n",
    "sns.despine(left=True, bottom=True)\n",
    "\n",
    "plt.subplot(144, sharey=ax1)\n",
    "x = plt.imshow(mph_constant / torch.nn.functional.softplus(weights18).data.numpy().T, \n",
    "           clim=(0,upper_lim), cmap=cmap, origin='lower')\n",
    "plt.title('6PM')\n",
    "plt.xticks([])\n",
    "sns.despine(left=True, bottom=True)\n",
    "\n",
    "plt.yticks([]);\n",
    "\n",
    "colorb_ax = plt.gcf().add_axes((0.99,0.05,0.02,0.85))\n",
    "cb = plt.gcf().colorbar(x, cax=colorb_ax)\n",
    "cb.outline.set_visible(False)\n",
    "\n",
    "for tick in colorb_ax.get_yticklines():\n",
    "    tick.set_visible(False)\n",
    "plt.ylabel('MPH')\n",
    "\n",
    "plt.tight_layout(False)\n",
    "plt.savefig('reports/paper/figs/unifmaps.pdf', bbox_inches = 'tight')"
   ]
  },
  {
   "cell_type": "code",
   "execution_count": 160,
   "metadata": {},
   "outputs": [],
   "source": [
    "losses_d = {}\n",
    "\n",
    "for hour in [4,8,12,18]:\n",
    "    losses_d[hour] = np.load('results/losses_week1hour{}_f.npy'.format(hour))"
   ]
  },
  {
   "cell_type": "code",
   "execution_count": 163,
   "metadata": {},
   "outputs": [
    {
     "data": {
      "image/png": "[encoded data removed]",
      "text/plain": [
       "<matplotlib.figure.Figure at 0x12f57df98>"
      ]
     },
     "metadata": {},
     "output_type": "display_data"
    }
   ],
   "source": [
    "plt.plot(pd.Series(losses_d[4]).rolling(len(losses)//10).mean(), label='4AM')\n",
    "plt.plot(pd.Series(losses_d[8]).rolling(len(losses)//10).mean(), label='8AM')\n",
    "plt.plot(pd.Series(losses_d[12]).rolling(len(losses)//10).mean(), label='12PM')\n",
    "plt.plot(pd.Series(losses_d[18]).rolling(len(losses)//10).mean(), label='6PM')\n",
    "sns.despine()\n",
    "plt.title('Softmax Model Training Loss')\n",
    "plt.xlabel('Trip Number')\n",
    "plt.ylabel('Loss')\n",
    "plt.legend()\n",
    "plt.savefig('reports/paper/figs/softmaxloss.pdf')"
   ]
  },
  {
   "cell_type": "code",
   "execution_count": 100,
   "metadata": {},
   "outputs": [
    {
     "data": {
      "text/plain": [
       "<matplotlib.figure.Figure at 0x129c8efd0>"
      ]
     },
     "metadata": {},
     "output_type": "display_data"
    }
   ],
   "source": [
    "f.add_axes"
   ]
  },
  {
   "cell_type": "code",
   "execution_count": 91,
   "metadata": {},
   "outputs": [],
   "source": [
    "sf_weights4 = torch.Tensor(np.load('results/weights_week1hour4_f.npy'))\n",
    "sf_weights8 = torch.Tensor(np.load('results/weights_week1hour8_f.npy'))\n",
    "sf_weights12 = torch.Tensor(np.load('results/weights_week1hour12_f.npy'))\n",
    "sf_weights18 = torch.Tensor(np.load('results/weights_week1hour18_f.npy'))"
   ]
  },
  {
   "cell_type": "code",
   "execution_count": 155,
   "metadata": {},
   "outputs": [
    {
     "name": "stderr",
     "output_type": "stream",
     "text": [
      "/anaconda/envs/py36/lib/python3.6/site-packages/matplotlib/figure.py:1743: UserWarning: This figure includes Axes that are not compatible with tight_layout, so its results might be incorrect.\n",
      "  warnings.warn(\"This figure includes Axes that are not \"\n"
     ]
    },
    {
     "data": {
      "image/png": "[encoded data removed]",
      "text/plain": [
       "<matplotlib.figure.Figure at 0x12f74c6a0>"
      ]
     },
     "metadata": {},
     "output_type": "display_data"
    }
   ],
   "source": [
    "cmap = matplotlib.colors.LinearSegmentedColormap.from_list('br1', \n",
    "    ['#E53935', '#FFFFFF', '#1E88E5'], N=1000)\n",
    "\n",
    "# cmap = matplotlib.colors.LinearSegmentedColormap.from_list('br1', \n",
    "#     ['#FFFFFF', '#000000'], N=1000)\n",
    "\n",
    "#plt.figure(figsize=(5,4))\n",
    "ax1 = plt.subplot(141)\n",
    "plt.imshow(mph_constant / torch.nn.functional.softplus(sf_weights4).data.numpy().T, \n",
    "           clim=(0,upper_lim), cmap=cmap, origin='lower')\n",
    "plt.title('4AM')\n",
    "plt.xticks([])\n",
    "sns.despine(left=True, bottom=True)\n",
    "\n",
    "plt.subplot(142, sharey=ax1)\n",
    "plt.imshow(mph_constant / torch.nn.functional.softplus(sf_weights8).data.numpy().T, \n",
    "           clim=(0,upper_lim), cmap=cmap, origin='lower')\n",
    "plt.title('8AM')\n",
    "plt.xticks([])\n",
    "sns.despine(left=True, bottom=True)\n",
    "\n",
    "plt.subplot(143, sharey=ax1)\n",
    "plt.imshow(mph_constant / torch.nn.functional.softplus(sf_weights12).data.numpy().T, \n",
    "           clim=(0,upper_lim), cmap=cmap, origin='lower')\n",
    "plt.title('12PM')\n",
    "plt.xticks([])\n",
    "sns.despine(left=True, bottom=True)\n",
    "\n",
    "plt.subplot(144, sharey=ax1)\n",
    "x = plt.imshow(mph_constant / torch.nn.functional.softplus(sf_weights18).data.numpy().T, \n",
    "           clim=(0,upper_lim), cmap=cmap, origin='lower')\n",
    "plt.title('6PM')\n",
    "plt.xticks([])\n",
    "sns.despine(left=True, bottom=True)\n",
    "\n",
    "plt.yticks([]);\n",
    "\n",
    "colorb_ax = plt.gcf().add_axes((0.99,0.05,0.02,0.85))\n",
    "cb = plt.gcf().colorbar(x, cax=colorb_ax)\n",
    "cb.outline.set_visible(False)\n",
    "\n",
    "for tick in colorb_ax.get_yticklines():\n",
    "    tick.set_visible(False)\n",
    "plt.ylabel('MPH')\n",
    "\n",
    "plt.tight_layout(False)\n",
    "plt.savefig('reports/paper/figs/softmaxmaps.pdf', bbox_inches = 'tight')"
   ]
  },
  {
   "cell_type": "code",
   "execution_count": 14,
   "metadata": {},
   "outputs": [
    {
     "data": {
      "application/vnd.jupyter.widget-view+json": {
       "model_id": "f2f7f9a61dfd404d95b356e0098f4081",
       "version_major": 2,
       "version_minor": 0
      },
      "text/html": [
       "<p>Failed to display Jupyter Widget of type <code>HBox</code>.</p>\n",
       "<p>\n",
       "  If you're reading this message in the Jupyter Notebook or JupyterLab Notebook, it may mean\n",
       "  that the widgets JavaScript is still loading. If this message persists, it\n",
       "  likely means that the widgets JavaScript library is either not installed or\n",
       "  not enabled. See the <a href=\"https://ipywidgets.readthedocs.io/en/stable/user_install.html\">Jupyter\n",
       "  Widgets Documentation</a> for setup instructions.\n",
       "</p>\n",
       "<p>\n",
       "  If you're reading this message in another frontend (for example, a static\n",
       "  rendering on GitHub or <a href=\"https://nbviewer.jupyter.org/\">NBViewer</a>),\n",
       "  it may mean that your frontend doesn't currently support widgets.\n",
       "</p>\n"
      ],
      "text/plain": [
       "HBox(children=(IntProgress(value=0, max=9697), HTML(value='')))"
      ]
     },
     "metadata": {},
     "output_type": "display_data"
    }
   ],
   "source": [
    "errs = test(predict_num, 'results/unif_tues8am_Fri2208')"
   ]
  }
 ],
 "metadata": {
  "hide_input": false,
  "kernelspec": {
   "display_name": "Python 3",
   "language": "python",
   "name": "python3"
  },
  "language_info": {
   "codemirror_mode": {
    "name": "ipython",
    "version": 3
   },
   "file_extension": ".py",
   "mimetype": "text/x-python",
   "name": "python",
   "nbconvert_exporter": "python",
   "pygments_lexer": "ipython3",
   "version": "3.6.1"
  },
  "toc": {
   "colors": {
    "hover_highlight": "#DAA520",
    "navigate_num": "#000000",
    "navigate_text": "#333333",
    "running_highlight": "#FF0000",
    "selected_highlight": "#FFD700",
    "sidebar_border": "#EEEEEE",
    "wrapper_background": "#FFFFFF"
   },
   "moveMenuLeft": true,
   "nav_menu": {
    "height": "12px",
    "width": "252px"
   },
   "navigate_menu": true,
   "number_sections": true,
   "sideBar": true,
   "threshold": 4,
   "toc_cell": false,
   "toc_section_display": "block",
   "toc_window_display": false,
   "widenNotebook": false
  }
 },
 "nbformat": 4,
 "nbformat_minor": 2
}
