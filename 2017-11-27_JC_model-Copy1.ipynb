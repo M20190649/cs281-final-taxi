{
 "cells": [
  {
   "cell_type": "code",
   "execution_count": 8,
   "metadata": {},
   "outputs": [
    {
     "name": "stdout",
     "output_type": "stream",
     "text": [
      "The Cython extension is already loaded. To reload it, use:\n",
      "  %reload_ext Cython\n"
     ]
    }
   ],
   "source": [
    "import pandas as pd\n",
    "import geopandas as gpd\n",
    "from matplotlib import pyplot as plt\n",
    "from numpy import clip\n",
    "from torch.autograd import Variable\n",
    "import torch\n",
    "from torch import Tensor\n",
    "from torch.optim import SGD, Adam\n",
    "from IPython.display import clear_output\n",
    "import ipywidgets as widgets\n",
    "from ipywidgets import interact\n",
    "from torch.nn.functional import softplus\n",
    "w = widgets.IntText()\n",
    "%matplotlib inline\n",
    "%run utils.py\n",
    "%load_ext Cython\n",
    "from numpy.random import permutation\n",
    "M, N = 40, 140\n",
    "\n",
    "# file to run model on\n",
    "filename = 'data/split/JC_week1_hour10_40x140.csv'\n",
    "\n",
    "def log_sum_exp(value):\n",
    "    m = torch.max(value)\n",
    "    sum_exp = torch.sum(torch.exp(value - m))\n",
    "    return m + torch.log(sum_exp)"
   ]
  },
  {
   "cell_type": "code",
   "execution_count": 9,
   "metadata": {},
   "outputs": [],
   "source": [
    "%%cython \n",
    "import numpy as np\n",
    "cimport numpy as np\n",
    "\n",
    "cdef int M = 40\n",
    "cdef int N = 140\n",
    "DTYPE = int\n",
    "ctypedef np.int_t DTYPE_t\n",
    "\n",
    "\n",
    "def random_path(int sx, int sy, int tx, int ty, int L):\n",
    "    \"\"\"sample L random paths from sx, sy to tx, ty\"\"\"\n",
    "    cdef int hor_dir, ver_dir, X, Y, XY\n",
    "    \n",
    "    hor_dir = (tx - sx) > 0\n",
    "    ver_dir = (ty - sy) > 0\n",
    "    \n",
    "    cdef np.ndarray[DTYPE_t, ndim=3] paths = np.zeros([M, N, L], dtype=DTYPE)\n",
    "    paths[sx,sy,:] = 1\n",
    "    \n",
    "    X = abs(tx - sx) \n",
    "    Y = abs(ty - sy) \n",
    "    XY = X + Y\n",
    "    \n",
    "    cdef np.ndarray[DTYPE_t, ndim=1] path = np.zeros(X+Y, dtype=DTYPE)\n",
    "    path[:X] = 1\n",
    "    \n",
    "    cdef int l, i, x, y\n",
    "\n",
    "    for l in range(L):\n",
    "        x, y = sx, sy\n",
    "        np.random.shuffle(path)\n",
    "        for i in range(XY):\n",
    "            if path[i]:\n",
    "                x += 2 * hor_dir - 1\n",
    "            else:\n",
    "                y += 2 * ver_dir - 1\n",
    "            paths[x,y,l] = 1\n",
    "    return paths"
   ]
  },
  {
   "cell_type": "code",
   "execution_count": 10,
   "metadata": {},
   "outputs": [],
   "source": [
    "weights = Variable((10 * torch.ones((M,N))).float(), requires_grad=True)\n",
    "\n",
    "# hyperparameters of the model\n",
    "L = 20\n",
    "s2 = 10 ** 2 # sigma2 = (10 s) ** 2"
   ]
  },
  {
   "cell_type": "markdown",
   "metadata": {},
   "source": [
    "The loss function is $$\n",
    "\\sum_{k=1}^N\\left\\{-\\frac{1}{2L\\sigma^2}\\sum_{j=1}^L \\left(T^{(k)} - \\sum_{\\text{path}_j} w_i\\right) - \\frac{1}{L} \\sum_{j=1}^L \\sum_{\\text{path}} w_i - \\text{logsumexp}\\left(-\\sum_{\\text{path}_j}w_i\\right)\\right\\} + \\log p(W).\n",
    "$$\n",
    "\n",
    "We tentatively ignore the prior on $W$."
   ]
  },
  {
   "cell_type": "code",
   "execution_count": 11,
   "metadata": {},
   "outputs": [
    {
     "data": {
      "application/vnd.jupyter.widget-view+json": {
       "model_id": "30089cde0a6f45d299b684bbbc9c54fc",
       "version_major": 2,
       "version_minor": 0
      },
      "text/plain": [
       "A Jupyter Widget"
      ]
     },
     "metadata": {},
     "output_type": "display_data"
    },
    {
     "name": "stdout",
     "output_type": "stream",
     "text": [
      "\n"
     ]
    },
    {
     "name": "stderr",
     "output_type": "stream",
     "text": [
      "Exception in thread Thread-4:\n",
      "Traceback (most recent call last):\n",
      "  File \"/Users/jiafengchen/anaconda3/lib/python3.6/threading.py\", line 916, in _bootstrap_inner\n",
      "    self.run()\n",
      "  File \"/Users/jiafengchen/anaconda3/lib/python3.6/site-packages/tqdm/_tqdm.py\", line 144, in run\n",
      "    for instance in self.tqdm_cls._instances:\n",
      "  File \"/Users/jiafengchen/anaconda3/lib/python3.6/_weakrefset.py\", line 60, in __iter__\n",
      "    for itemref in self.data:\n",
      "RuntimeError: Set changed size during iteration\n",
      "\n"
     ]
    }
   ],
   "source": [
    "df = pd.read_csv(filename)\n",
    "optimizer = Adam([weights], lr = 0.05) # using Adam since we are doing some stochastic optimization things\n",
    "num_epochs = 5\n",
    "def loss_fn(paths, t):\n",
    "    \"\"\"Implement the loss function\"\"\"\n",
    "    weighted_paths = (Variable(Tensor(paths.astype(float)))\n",
    "                              * weights.unsqueeze(-1))\n",
    "    weight_sums = weighted_paths.sum(dim=0).sum(dim=0)\n",
    "    first = (-1/(2 * L * s2) * (t - weight_sums).pow(2).sum())\n",
    "    second = - weighted_paths.sum() / L\n",
    "    third = - log_sum_exp(-weight_sums)\n",
    "    loss = -(first + second + third)\n",
    "    return loss \n",
    "\n",
    "pbar = tqdm(total=num_epochs * len(df))\n",
    "losses = []\n",
    "for epoch in range(num_epochs):\n",
    "    for _, duration, sx, sy, tx, ty in (df.sample(frac=1).itertuples()):\n",
    "        pbar.update(1)\n",
    "        paths = random_path(int(sx), int(sy), \n",
    "                            int(tx), int(ty), L)\n",
    "        t = float(duration)\n",
    "        loss = loss_fn(paths, t)\n",
    "        optimizer.zero_grad()\n",
    "        loss.backward()\n",
    "        optimizer.step()\n",
    "        losses.append(loss.data[0])"
   ]
  },
  {
   "cell_type": "code",
   "execution_count": 12,
   "metadata": {},
   "outputs": [],
   "source": [
    "# np.save('results/weights_week1hour10_1.npy', weights.data.numpy())\n",
    "# np.save('results/losses_week1hour10_1.npy', np.array(losses))"
   ]
  },
  {
   "cell_type": "code",
   "execution_count": 13,
   "metadata": {},
   "outputs": [
    {
     "data": {
      "image/png": "[encoded data removed]",
      "text/plain": [
       "<matplotlib.figure.Figure at 0x10599c278>"
      ]
     },
     "metadata": {},
     "output_type": "display_data"
    }
   ],
   "source": [
    "plt.plot(np.array(losses).cumsum()/np.arange(1,len(losses)+1))\n",
    "plt.xscale('log')\n",
    "#plt.yscale('log')"
   ]
  },
  {
   "cell_type": "code",
   "execution_count": 14,
   "metadata": {},
   "outputs": [
    {
     "data": {
      "text/plain": [
       "<matplotlib.image.AxesImage at 0x11a82c978>"
      ]
     },
     "execution_count": 14,
     "metadata": {},
     "output_type": "execute_result"
    },
    {
     "data": {
      "image/png": "[encoded data removed]",
      "text/plain": [
       "<matplotlib.figure.Figure at 0x1086b1588>"
      ]
     },
     "metadata": {},
     "output_type": "display_data"
    }
   ],
   "source": [
    "plt.figure(figsize=(10,10))\n",
    "plt.imshow(softplus(weights).data.numpy().T, origin='lower',\n",
    "           clim=(0,35), cmap='bwr')\n"
   ]
  },
  {
   "cell_type": "code",
   "execution_count": null,
   "metadata": {},
   "outputs": [],
   "source": []
  }
 ],
 "metadata": {
  "kernelspec": {
   "display_name": "Python 3",
   "language": "python",
   "name": "python3"
  },
  "language_info": {
   "codemirror_mode": {
    "name": "ipython",
    "version": 3
   },
   "file_extension": ".py",
   "mimetype": "text/x-python",
   "name": "python",
   "nbconvert_exporter": "python",
   "pygments_lexer": "ipython3",
   "version": "3.6.3"
  }
 },
 "nbformat": 4,
 "nbformat_minor": 2
}
