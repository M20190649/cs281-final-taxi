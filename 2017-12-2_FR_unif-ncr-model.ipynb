{
 "cells": [
  {
   "cell_type": "code",
   "execution_count": 1,
   "metadata": {
    "ExecuteTime": {
     "end_time": "2017-11-17T02:35:14.763470Z",
     "start_time": "2017-11-17T02:35:14.750498Z"
    },
    "collapsed": true
   },
   "outputs": [],
   "source": [
    "import pandas as pd\n",
    "import geopandas as gpd\n",
    "from matplotlib import pyplot as plt\n",
    "from numpy import clip\n",
    "from torch.autograd import Variable\n",
    "import torch\n",
    "from torch import Tensor\n",
    "from torch.optim import SGD\n",
    "from IPython.display import clear_output\n",
    "import ipywidgets as widgets\n",
    "from ipywidgets import interact\n",
    "from scipy import special\n",
    "w = widgets.IntText()\n",
    "%matplotlib inline\n",
    "%run utils.py"
   ]
  },
  {
   "cell_type": "code",
   "execution_count": 2,
   "metadata": {},
   "outputs": [],
   "source": [
    "M, N = (20,70) "
   ]
  },
  {
   "cell_type": "code",
   "execution_count": 3,
   "metadata": {},
   "outputs": [],
   "source": [
    "def unif_path_weights(source, target):\n",
    "    sx, sy = source\n",
    "    tx, ty = target\n",
    "    x_d, y_d = abs(tx-sx), abs(ty-sy)\n",
    "    \n",
    "    x, y = np.meshgrid(range(x_d+1), range(y_d+1))\n",
    "    \n",
    "    paths1 = special.binom(x+y,x)\n",
    "    paths2 = special.binom(x_d+y_d-x-y, x_d-x)\n",
    "    total_paths = special.binom(x_d+y_d,x_d)\n",
    "    \n",
    "    small_grid = (paths1 * paths2 / total_paths).T\n",
    "    \n",
    "    if (tx-sx)*(ty-sy) < 0:\n",
    "        small_grid = small_grid[::-1, :]\n",
    "    \n",
    "    full_grid = np.zeros((M,N))\n",
    "    full_grid[min(sx, tx):max(sx,tx)+1, min(sy, ty):max(sy,ty)+1] = small_grid\n",
    "    \n",
    "    return full_grid"
   ]
  },
  {
   "cell_type": "code",
   "execution_count": 4,
   "metadata": {},
   "outputs": [
    {
     "data": {
      "text/plain": [
       "<matplotlib.image.AxesImage at 0x11ff8ff60>"
      ]
     },
     "execution_count": 4,
     "metadata": {},
     "output_type": "execute_result"
    },
    {
     "data": {
      "image/png": "[encoded data removed]",
      "text/plain": [
       "<matplotlib.figure.Figure at 0x11cc0d668>"
      ]
     },
     "metadata": {},
     "output_type": "display_data"
    }
   ],
   "source": [
    "plt.imshow(unif_path_weights((10,50), (0,0)).T, origin='lower')"
   ]
  },
  {
   "cell_type": "code",
   "execution_count": 5,
   "metadata": {
    "ExecuteTime": {
     "end_time": "2017-11-17T02:35:44.784174Z",
     "start_time": "2017-11-17T02:35:44.774226Z"
    },
    "collapsed": true
   },
   "outputs": [],
   "source": [
    "weights = Variable((15 * torch.ones((M,N))).float(), requires_grad=True)"
   ]
  },
  {
   "cell_type": "code",
   "execution_count": 6,
   "metadata": {
    "ExecuteTime": {
     "end_time": "2017-11-17T02:35:45.561795Z",
     "start_time": "2017-11-17T02:35:44.811116Z"
    }
   },
   "outputs": [
    {
     "data": {
      "application/vnd.jupyter.widget-view+json": {
       "model_id": "3fdbb4a1400344f388b1c9ea4266545c",
       "version_major": 2,
       "version_minor": 0
      },
      "text/html": [
       "<p>Failed to display Jupyter Widget of type <code>interactive</code>.</p>\n",
       "<p>\n",
       "  If you're reading this message in the Jupyter Notebook or JupyterLab Notebook, it may mean\n",
       "  that the widgets JavaScript is still loading. If this message persists, it\n",
       "  likely means that the widgets JavaScript library is either not installed or\n",
       "  not enabled. See the <a href=\"https://ipywidgets.readthedocs.io/en/stable/user_install.html\">Jupyter\n",
       "  Widgets Documentation</a> for setup instructions.\n",
       "</p>\n",
       "<p>\n",
       "  If you're reading this message in another frontend (for example, a static\n",
       "  rendering on GitHub or <a href=\"https://nbviewer.jupyter.org/\">NBViewer</a>),\n",
       "  it may mean that your frontend doesn't currently support widgets.\n",
       "</p>\n"
      ],
      "text/plain": [
       "interactive(children=(IntText(value=0, description='x'), Output()), _dom_classes=('widget-interact',))"
      ]
     },
     "metadata": {},
     "output_type": "display_data"
    }
   ],
   "source": [
    "@interact(x=w)\n",
    "def plot(x):\n",
    "    plt.figure(figsize=(10,10))\n",
    "    plt.imshow(torch.nn.functional.softplus(weights).data.numpy().T, \n",
    "               clim=(0,80), cmap='bwr', origin='lower')\n",
    "    plt.show()\n",
    "    "
   ]
  },
  {
   "cell_type": "code",
   "execution_count": 7,
   "metadata": {},
   "outputs": [],
   "source": [
    "def predict(sx, sy, tx, ty):\n",
    "    sx, sy, tx, ty = sx//2, sy//2, tx//2, ty//2\n",
    "    \n",
    "    source = (int(sx), int(sy))\n",
    "    target = (int(tx), int(ty))\n",
    "    path = unif_path_weights(source, target)\n",
    "    pred = (Variable(Tensor(path)) \n",
    "            * torch.nn.functional.softplus(weights)).sum()\n",
    "    return pred\n",
    "    \n",
    "def predict_num(sx, sy, tx, ty):\n",
    "    return predict(sx, sy, tx, ty).data[0]"
   ]
  },
  {
   "cell_type": "code",
   "execution_count": 8,
   "metadata": {
    "ExecuteTime": {
     "end_time": "2017-11-17T02:45:30.765821Z",
     "start_time": "2017-11-17T02:35:45.564048Z"
    }
   },
   "outputs": [
    {
     "data": {
      "application/vnd.jupyter.widget-view+json": {
       "model_id": "f092e75b254b4b2ca58113130e63b827",
       "version_major": 2,
       "version_minor": 0
      },
      "text/html": [
       "<p>Failed to display Jupyter Widget of type <code>HBox</code>.</p>\n",
       "<p>\n",
       "  If you're reading this message in the Jupyter Notebook or JupyterLab Notebook, it may mean\n",
       "  that the widgets JavaScript is still loading. If this message persists, it\n",
       "  likely means that the widgets JavaScript library is either not installed or\n",
       "  not enabled. See the <a href=\"https://ipywidgets.readthedocs.io/en/stable/user_install.html\">Jupyter\n",
       "  Widgets Documentation</a> for setup instructions.\n",
       "</p>\n",
       "<p>\n",
       "  If you're reading this message in another frontend (for example, a static\n",
       "  rendering on GitHub or <a href=\"https://nbviewer.jupyter.org/\">NBViewer</a>),\n",
       "  it may mean that your frontend doesn't currently support widgets.\n",
       "</p>\n"
      ],
      "text/plain": [
       "HBox(children=(IntProgress(value=0, max=390810), HTML(value='')))"
      ]
     },
     "metadata": {},
     "output_type": "display_data"
    },
    {
     "name": "stdout",
     "output_type": "stream",
     "text": [
      "\r",
      "          \r",
      "390810/|/100%|| 390810/390810 [05:10<00:00, 1552.21it/s]"
     ]
    }
   ],
   "source": [
    "optimizer = SGD([weights], lr = 1e-4)\n",
    "num_epochs = 5\n",
    "\n",
    "df = pd.read_csv('data/split/JC_week1_hour8_40x140.csv')\n",
    "losses = []\n",
    "pbar = tqdm(total=num_epochs*len(df))\n",
    "for epoch in range(num_epochs):\n",
    "    for _, duration, sx, sy, tx, ty in df.sample(frac=1).itertuples():\n",
    "        if pbar.n % 1000 == 0:\n",
    "            w.value += 1\n",
    "        pbar.update(1)\n",
    "        pred = predict(sx, sy, tx, ty)\n",
    "        loss = (pred - duration) ** 2\n",
    "        optimizer.zero_grad()\n",
    "        loss.backward()\n",
    "        optimizer.step()\n",
    "        losses.append(loss.data[0])"
   ]
  },
  {
   "cell_type": "code",
   "execution_count": 9,
   "metadata": {
    "ExecuteTime": {
     "end_time": "2017-11-15T19:18:29.344218Z",
     "start_time": "2017-11-15T19:18:29.335323Z"
    },
    "collapsed": true
   },
   "outputs": [
    {
     "data": {
      "text/plain": [
       "[<matplotlib.lines.Line2D at 0x11ffc3358>]"
      ]
     },
     "execution_count": 9,
     "metadata": {},
     "output_type": "execute_result"
    },
    {
     "data": {
      "image/png": "[encoded data removed]",
      "text/plain": [
       "<matplotlib.figure.Figure at 0x121397128>"
      ]
     },
     "metadata": {},
     "output_type": "display_data"
    }
   ],
   "source": [
    "plt.plot(pd.Series(losses).rolling(len(losses)//10).mean())"
   ]
  },
  {
   "cell_type": "code",
   "execution_count": 49,
   "metadata": {},
   "outputs": [
    {
     "data": {
      "text/plain": [
       "Variable containing:\n",
       "  18.2937   15.2162   15.9050  ...    15.0000   15.0000   15.0000\n",
       "  16.5694   15.2121   15.2728  ...    15.0000   15.0000   15.0000\n",
       "  15.5406   14.5234   14.7567  ...    15.0000   15.0000   15.0000\n",
       "             ...                ⋱                ...             \n",
       "  15.0000   15.0000   15.0000  ...    14.1062   91.7242  131.6433\n",
       "  15.0000   15.0000   15.0000  ...    10.0105  116.4045   56.7057\n",
       "  15.0000   15.0000   15.0000  ...   139.4594  143.5306  145.2057\n",
       "[torch.FloatTensor of size 40x140]"
      ]
     },
     "execution_count": 49,
     "metadata": {},
     "output_type": "execute_result"
    }
   ],
   "source": [
    "weights"
   ]
  },
  {
   "cell_type": "code",
   "execution_count": 10,
   "metadata": {
    "ExecuteTime": {
     "end_time": "2017-11-15T04:04:06.458252Z",
     "start_time": "2017-11-15T04:04:05.992102Z"
    }
   },
   "outputs": [
    {
     "data": {
      "image/png": "[encoded data removed]",
      "text/plain": [
       "<matplotlib.figure.Figure at 0x120104160>"
      ]
     },
     "metadata": {},
     "output_type": "display_data"
    }
   ],
   "source": [
    "plt.hist((weights.data.numpy()[~np.isnan(weights.data.numpy())]));"
   ]
  },
  {
   "cell_type": "raw",
   "metadata": {
    "ExecuteTime": {
     "end_time": "2017-11-15T16:41:16.288107Z",
     "start_time": "2017-11-15T16:41:15.817540Z"
    }
   },
   "source": [
    "plt.hist(minute_loss[minute_loss < 40], bins=100);"
   ]
  },
  {
   "cell_type": "code",
   "execution_count": 45,
   "metadata": {
    "ExecuteTime": {
     "end_time": "2017-11-15T16:37:52.207631Z",
     "start_time": "2017-11-15T16:37:41.490918Z"
    },
    "collapsed": true
   },
   "outputs": [],
   "source": [
    "test_df = pd.read_csv('data/split_test/JC_week1_hour8_test_40x140.csv')"
   ]
  },
  {
   "cell_type": "code",
   "execution_count": 13,
   "metadata": {},
   "outputs": [],
   "source": [
    "%run test.py"
   ]
  },
  {
   "cell_type": "code",
   "execution_count": 14,
   "metadata": {},
   "outputs": [
    {
     "data": {
      "application/vnd.jupyter.widget-view+json": {
       "model_id": "f2f7f9a61dfd404d95b356e0098f4081",
       "version_major": 2,
       "version_minor": 0
      },
      "text/html": [
       "<p>Failed to display Jupyter Widget of type <code>HBox</code>.</p>\n",
       "<p>\n",
       "  If you're reading this message in the Jupyter Notebook or JupyterLab Notebook, it may mean\n",
       "  that the widgets JavaScript is still loading. If this message persists, it\n",
       "  likely means that the widgets JavaScript library is either not installed or\n",
       "  not enabled. See the <a href=\"https://ipywidgets.readthedocs.io/en/stable/user_install.html\">Jupyter\n",
       "  Widgets Documentation</a> for setup instructions.\n",
       "</p>\n",
       "<p>\n",
       "  If you're reading this message in another frontend (for example, a static\n",
       "  rendering on GitHub or <a href=\"https://nbviewer.jupyter.org/\">NBViewer</a>),\n",
       "  it may mean that your frontend doesn't currently support widgets.\n",
       "</p>\n"
      ],
      "text/plain": [
       "HBox(children=(IntProgress(value=0, max=9697), HTML(value='')))"
      ]
     },
     "metadata": {},
     "output_type": "display_data"
    }
   ],
   "source": [
    "errs = test(predict_num, 'results/unif_tues8am_Fri2208')"
   ]
  },
  {
   "cell_type": "code",
   "execution_count": 46,
   "metadata": {},
   "outputs": [
    {
     "data": {
      "text/html": [
       "<div>\n",
       "<style>\n",
       "    .dataframe thead tr:only-child th {\n",
       "        text-align: right;\n",
       "    }\n",
       "\n",
       "    .dataframe thead th {\n",
       "        text-align: left;\n",
       "    }\n",
       "\n",
       "    .dataframe tbody tr th {\n",
       "        vertical-align: top;\n",
       "    }\n",
       "</style>\n",
       "<table border=\"1\" class=\"dataframe\">\n",
       "  <thead>\n",
       "    <tr style=\"text-align: right;\">\n",
       "      <th></th>\n",
       "      <th>duration</th>\n",
       "      <th>sx</th>\n",
       "      <th>sy</th>\n",
       "      <th>tx</th>\n",
       "      <th>ty</th>\n",
       "    </tr>\n",
       "  </thead>\n",
       "  <tbody>\n",
       "    <tr>\n",
       "      <th>0</th>\n",
       "      <td>480.0</td>\n",
       "      <td>25.0</td>\n",
       "      <td>37.0</td>\n",
       "      <td>34.0</td>\n",
       "      <td>28.0</td>\n",
       "    </tr>\n",
       "    <tr>\n",
       "      <th>1</th>\n",
       "      <td>780.0</td>\n",
       "      <td>9.0</td>\n",
       "      <td>26.0</td>\n",
       "      <td>22.0</td>\n",
       "      <td>45.0</td>\n",
       "    </tr>\n",
       "    <tr>\n",
       "      <th>2</th>\n",
       "      <td>720.0</td>\n",
       "      <td>22.0</td>\n",
       "      <td>102.0</td>\n",
       "      <td>7.0</td>\n",
       "      <td>93.0</td>\n",
       "    </tr>\n",
       "    <tr>\n",
       "      <th>3</th>\n",
       "      <td>480.0</td>\n",
       "      <td>15.0</td>\n",
       "      <td>39.0</td>\n",
       "      <td>23.0</td>\n",
       "      <td>44.0</td>\n",
       "    </tr>\n",
       "    <tr>\n",
       "      <th>4</th>\n",
       "      <td>1178.0</td>\n",
       "      <td>10.0</td>\n",
       "      <td>23.0</td>\n",
       "      <td>23.0</td>\n",
       "      <td>59.0</td>\n",
       "    </tr>\n",
       "  </tbody>\n",
       "</table>\n",
       "</div>"
      ],
      "text/plain": [
       "   duration    sx     sy    tx    ty\n",
       "0     480.0  25.0   37.0  34.0  28.0\n",
       "1     780.0   9.0   26.0  22.0  45.0\n",
       "2     720.0  22.0  102.0   7.0  93.0\n",
       "3     480.0  15.0   39.0  23.0  44.0\n",
       "4    1178.0  10.0   23.0  23.0  59.0"
      ]
     },
     "execution_count": 46,
     "metadata": {},
     "output_type": "execute_result"
    }
   ],
   "source": [
    "test_df.head()"
   ]
  },
  {
   "cell_type": "code",
   "execution_count": 47,
   "metadata": {},
   "outputs": [],
   "source": [
    "test_df['d'] = (test_df.sx - test_df.tx)**2 + (test_df.sy - test_df.ty)**2"
   ]
  },
  {
   "cell_type": "code",
   "execution_count": 48,
   "metadata": {},
   "outputs": [],
   "source": [
    "import statsmodels.formula.api as smf"
   ]
  },
  {
   "cell_type": "code",
   "execution_count": 52,
   "metadata": {},
   "outputs": [
    {
     "name": "stdout",
     "output_type": "stream",
     "text": [
      "                  Results: Ordinary least squares\n",
      "====================================================================\n",
      "Model:              OLS              Adj. R-squared:     0.353      \n",
      "Dependent Variable: duration         AIC:                138161.7210\n",
      "Date:               2017-12-08 22:32 BIC:                138176.0802\n",
      "No. Observations:   9697             Log-Likelihood:     -69079.    \n",
      "Df Model:           1                F-statistic:        5289.      \n",
      "Df Residuals:       9695             Prob (F-statistic): 0.00       \n",
      "R-squared:          0.353            Scale:              90201.     \n",
      "---------------------------------------------------------------------\n",
      "              Coef.    Std.Err.     t      P>|t|    [0.025    0.975] \n",
      "---------------------------------------------------------------------\n",
      "Intercept    506.0068    3.5703  141.7283  0.0000  499.0083  513.0052\n",
      "d              0.2523    0.0035   72.7236  0.0000    0.2455    0.2591\n",
      "--------------------------------------------------------------------\n",
      "Omnibus:              4072.711      Durbin-Watson:         2.008    \n",
      "Prob(Omnibus):        0.000         Jarque-Bera (JB):      69079.802\n",
      "Skew:                 1.573         Prob(JB):              0.000    \n",
      "Kurtosis:             15.692        Condition No.:         1205     \n",
      "====================================================================\n",
      "* The condition number is large (1e+03). This might indicate\n",
      "strong multicollinearity or other numerical problems.\n"
     ]
    }
   ],
   "source": [
    "print(smf.ols('duration ~ d', data=test_df).fit().summary2())"
   ]
  },
  {
   "cell_type": "code",
   "execution_count": null,
   "metadata": {},
   "outputs": [],
   "source": []
  }
 ],
 "metadata": {
  "hide_input": false,
  "kernelspec": {
   "display_name": "Python 3",
   "language": "python",
   "name": "python3"
  },
  "language_info": {
   "codemirror_mode": {
    "name": "ipython",
    "version": 3
   },
   "file_extension": ".py",
   "mimetype": "text/x-python",
   "name": "python",
   "nbconvert_exporter": "python",
   "pygments_lexer": "ipython3",
   "version": "3.6.1"
  },
  "toc": {
   "colors": {
    "hover_highlight": "#DAA520",
    "navigate_num": "#000000",
    "navigate_text": "#333333",
    "running_highlight": "#FF0000",
    "selected_highlight": "#FFD700",
    "sidebar_border": "#EEEEEE",
    "wrapper_background": "#FFFFFF"
   },
   "moveMenuLeft": true,
   "nav_menu": {
    "height": "12px",
    "width": "252px"
   },
   "navigate_menu": true,
   "number_sections": true,
   "sideBar": true,
   "threshold": 4,
   "toc_cell": false,
   "toc_section_display": "block",
   "toc_window_display": false,
   "widenNotebook": false
  }
 },
 "nbformat": 4,
 "nbformat_minor": 2
}
