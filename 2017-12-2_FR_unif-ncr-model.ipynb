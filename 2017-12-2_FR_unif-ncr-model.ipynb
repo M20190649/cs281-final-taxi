{
 "cells": [
  {
   "cell_type": "code",
   "execution_count": 16,
   "metadata": {
    "ExecuteTime": {
     "end_time": "2017-11-17T02:35:14.763470Z",
     "start_time": "2017-11-17T02:35:14.750498Z"
    },
    "collapsed": true
   },
   "outputs": [],
   "source": [
    "import pandas as pd\n",
    "import geopandas as gpd\n",
    "from matplotlib import pyplot as plt\n",
    "from numpy import clip\n",
    "from torch.autograd import Variable\n",
    "import torch\n",
    "from torch import Tensor\n",
    "from torch.optim import SGD\n",
    "from IPython.display import clear_output\n",
    "import ipywidgets as widgets\n",
    "from ipywidgets import interact\n",
    "from scipy import special\n",
    "w = widgets.IntText()\n",
    "%matplotlib inline\n",
    "%run utils.py"
   ]
  },
  {
   "cell_type": "code",
   "execution_count": 3,
   "metadata": {
    "ExecuteTime": {
     "end_time": "2017-11-17T02:35:14.771717Z",
     "start_time": "2017-11-17T02:35:14.766164Z"
    }
   },
   "outputs": [],
   "source": [
    "%load_ext Cython"
   ]
  },
  {
   "cell_type": "code",
   "execution_count": 4,
   "metadata": {},
   "outputs": [],
   "source": [
    "M, N = (40,140) "
   ]
  },
  {
   "cell_type": "code",
   "execution_count": 58,
   "metadata": {
    "ExecuteTime": {
     "end_time": "2017-11-17T02:35:14.784319Z",
     "start_time": "2017-11-17T02:35:14.776523Z"
    },
    "collapsed": true,
    "scrolled": true
   },
   "outputs": [],
   "source": [
    "%%cython\n",
    "import numpy as np\n",
    "cimport numpy as np\n",
    "\n",
    "cdef int M, N\n",
    "M, N = (40,140)\n",
    "\n",
    "def min_cost(tuple source, tuple target, np.ndarray[float, ndim=2] w):\n",
    "    cdef int sx, sy, tx, ty, i, j\n",
    "    sx, sy = source\n",
    "    tx, ty = target\n",
    "\n",
    "    cdef int hor_dir, ver_dir\n",
    "    hor_dir = np.sign(tx - sx)\n",
    "    ver_dir = np.sign(ty - sy)\n",
    "\n",
    "    cdef int X, Y\n",
    "    cdef np.ndarray[double, ndim=2] cost\n",
    "    cdef np.ndarray[list, ndim=2] paths\n",
    "\n",
    "    X = np.abs(tx - sx) + 1\n",
    "    Y = np.abs(ty - sy) + 1\n",
    "    cost = np.zeros((X, Y))\n",
    "    paths = np.zeros((X, Y), dtype=object)\n",
    "\n",
    "    cost[0, 0] = w[sx, sy]\n",
    "    paths[0, 0] = [source]\n",
    "\n",
    "    for i in range(1, X):\n",
    "        cost[i, 0] = cost[i - 1, 0] + w[i * hor_dir + sx, sy]\n",
    "        paths[i, 0] = paths[i - 1, 0] + [(i * hor_dir + sx, sy)]\n",
    "\n",
    "    for j in range(1, Y):\n",
    "        cost[0, j] = cost[0, j - 1] + w[sx, sy + j * ver_dir]\n",
    "        paths[0, j] = paths[0, j - 1] + [(sx, sy + j * ver_dir)]\n",
    "\n",
    "    for i in range(1, X):\n",
    "        for j in range(1, Y):\n",
    "            if cost[i, j - 1] <= cost[i - 1, j]:\n",
    "                cost[i, j] = cost[i, j - 1] + \\\n",
    "                    w[sx + i * hor_dir, sy + j * ver_dir]\n",
    "                paths[i, j] = paths[i, j - 1] + \\\n",
    "                    [(sx + i * hor_dir, sy + j * ver_dir)]\n",
    "            else:\n",
    "                cost[i - 1, j] = cost[i - 1, j] + \\\n",
    "                    w[sx + i * hor_dir, sy + j * ver_dir]\n",
    "                paths[i, j] = paths[i - 1, j] + \\\n",
    "                    [(sx + i * hor_dir, sy + j * ver_dir)]\n",
    "\n",
    "    cdef np.ndarray st\n",
    "    st = np.zeros((M,N))\n",
    "\n",
    "    for i, j in paths[X-1,Y-1]:\n",
    "        st[i,j] = 1\n",
    "    return st\n",
    "\n"
   ]
  },
  {
   "cell_type": "code",
   "execution_count": 61,
   "metadata": {
    "ExecuteTime": {
     "end_time": "2017-11-17T02:35:44.753908Z",
     "start_time": "2017-11-17T02:35:44.728689Z"
    },
    "collapsed": true
   },
   "outputs": [],
   "source": [
    "def random_path(source, target):\n",
    "    sx, sy = source\n",
    "    tx, ty = target\n",
    "    hor_dir = np.sign(tx - sx)\n",
    "    ver_dir = np.sign(ty - sy)\n",
    "    X = np.abs(tx - sx) \n",
    "    Y = np.abs(ty - sy) \n",
    "    path = np.zeros(X+Y)\n",
    "    path[:X] = 1\n",
    "    path = np.random.permutation(path)\n",
    "    st = np.zeros((M,N))\n",
    "    st[sx, sy] = 1\n",
    "    lastx, lasty = sx, sy\n",
    "    \n",
    "    for i in path:\n",
    "        if i == 0:\n",
    "            lasty += ver_dir\n",
    "            st[lastx, lasty] = 1\n",
    "        else:\n",
    "            lastx += hor_dir\n",
    "            st[lastx, lasty] = 1\n",
    "    return st"
   ]
  },
  {
   "cell_type": "code",
   "execution_count": 31,
   "metadata": {},
   "outputs": [],
   "source": [
    "def unif_path_weights(source, target):\n",
    "    sx, sy = source\n",
    "    tx, ty = target\n",
    "    x_d, y_d = abs(tx-sx), abs(ty-sy)\n",
    "    \n",
    "    x, y = np.meshgrid(range(x_d+1), range(y_d+1))\n",
    "    \n",
    "    paths1 = special.binom(x+y,x)\n",
    "    paths2 = special.binom(x_d+y_d-x-y, x_d-x)\n",
    "    total_paths = special.binom(x_d+y_d,x_d)\n",
    "    \n",
    "    small_grid = (paths1 * paths2 / total_paths).T\n",
    "    \n",
    "    if (tx-sx)*(ty-sy) < 0:\n",
    "        small_grid = small_grid[::-1, :]\n",
    "    \n",
    "    full_grid = np.zeros((M,N))\n",
    "    full_grid[min(sx, tx):max(sx,tx)+1, min(sy, ty):max(sy,ty)+1] = small_grid\n",
    "    \n",
    "    return full_grid\n",
    "    \n",
    "    \n",
    "    "
   ]
  },
  {
   "cell_type": "code",
   "execution_count": 41,
   "metadata": {},
   "outputs": [
    {
     "data": {
      "text/plain": [
       "<matplotlib.image.AxesImage at 0x11bd94ac8>"
      ]
     },
     "execution_count": 41,
     "metadata": {},
     "output_type": "execute_result"
    },
    {
     "data": {
      "image/png": "[encoded data removed]",
      "text/plain": [
       "<matplotlib.figure.Figure at 0x11af9d240>"
      ]
     },
     "metadata": {},
     "output_type": "display_data"
    }
   ],
   "source": [
    "plt.imshow(unif_path_weights((30,100), (0,0)).T, origin='lower')"
   ]
  },
  {
   "cell_type": "code",
   "execution_count": 21,
   "metadata": {
    "ExecuteTime": {
     "end_time": "2017-11-17T02:35:44.771249Z",
     "start_time": "2017-11-17T02:35:44.766810Z"
    },
    "collapsed": true
   },
   "outputs": [],
   "source": [
    "# chunks = pd.read_csv('data/yellow_tripdata_2009-01_train_JC.csv', chunksize=1000)"
   ]
  },
  {
   "cell_type": "code",
   "execution_count": 70,
   "metadata": {
    "ExecuteTime": {
     "end_time": "2017-11-17T02:35:44.784174Z",
     "start_time": "2017-11-17T02:35:44.774226Z"
    },
    "collapsed": true
   },
   "outputs": [],
   "source": [
    "# grid = np.load('grid.npy')\n",
    "# gr = np.zeros((20,70))\n",
    "# for i, j in grid:\n",
    "#     gr[int(i), int(j)] = 1.0\n",
    "\n",
    "weights = Variable((15 * torch.ones((M,N))).float(), requires_grad=True)"
   ]
  },
  {
   "cell_type": "code",
   "execution_count": 23,
   "metadata": {
    "ExecuteTime": {
     "end_time": "2017-11-17T02:35:44.808174Z",
     "start_time": "2017-11-17T02:35:44.787366Z"
    },
    "collapsed": true
   },
   "outputs": [],
   "source": []
  },
  {
   "cell_type": "code",
   "execution_count": 73,
   "metadata": {
    "ExecuteTime": {
     "end_time": "2017-11-17T02:35:45.561795Z",
     "start_time": "2017-11-17T02:35:44.811116Z"
    }
   },
   "outputs": [
    {
     "data": {
      "application/vnd.jupyter.widget-view+json": {
       "model_id": "8766d0f704894809aa60753fccb1950b",
       "version_major": 2,
       "version_minor": 0
      },
      "text/html": [
       "<p>Failed to display Jupyter Widget of type <code>interactive</code>.</p>\n",
       "<p>\n",
       "  If you're reading this message in the Jupyter Notebook or JupyterLab Notebook, it may mean\n",
       "  that the widgets JavaScript is still loading. If this message persists, it\n",
       "  likely means that the widgets JavaScript library is either not installed or\n",
       "  not enabled. See the <a href=\"https://ipywidgets.readthedocs.io/en/stable/user_install.html\">Jupyter\n",
       "  Widgets Documentation</a> for setup instructions.\n",
       "</p>\n",
       "<p>\n",
       "  If you're reading this message in another frontend (for example, a static\n",
       "  rendering on GitHub or <a href=\"https://nbviewer.jupyter.org/\">NBViewer</a>),\n",
       "  it may mean that your frontend doesn't currently support widgets.\n",
       "</p>\n"
      ],
      "text/plain": [
       "interactive(children=(IntText(value=65, description='x'), Output()), _dom_classes=('widget-interact',))"
      ]
     },
     "metadata": {},
     "output_type": "display_data"
    }
   ],
   "source": [
    "@interact(x=w)\n",
    "def plot(x):\n",
    "    plt.figure(figsize=(10,10))\n",
    "    plt.imshow(torch.nn.functional.softplus(weights).data.numpy().T, \n",
    "               clim=(0,50), cmap='bwr', origin='lower')\n",
    "    plt.savefig('{}.png'.format(x))\n",
    "    plt.show()\n",
    "    "
   ]
  },
  {
   "cell_type": "code",
   "execution_count": 71,
   "metadata": {
    "ExecuteTime": {
     "end_time": "2017-11-17T02:45:30.765821Z",
     "start_time": "2017-11-17T02:35:45.564048Z"
    }
   },
   "outputs": [
    {
     "data": {
      "application/vnd.jupyter.widget-view+json": {
       "model_id": "2b1839bab8814df6837b0d48c2b2f0e0",
       "version_major": 2,
       "version_minor": 0
      },
      "text/html": [
       "<p>Failed to display Jupyter Widget of type <code>HBox</code>.</p>\n",
       "<p>\n",
       "  If you're reading this message in the Jupyter Notebook or JupyterLab Notebook, it may mean\n",
       "  that the widgets JavaScript is still loading. If this message persists, it\n",
       "  likely means that the widgets JavaScript library is either not installed or\n",
       "  not enabled. See the <a href=\"https://ipywidgets.readthedocs.io/en/stable/user_install.html\">Jupyter\n",
       "  Widgets Documentation</a> for setup instructions.\n",
       "</p>\n",
       "<p>\n",
       "  If you're reading this message in another frontend (for example, a static\n",
       "  rendering on GitHub or <a href=\"https://nbviewer.jupyter.org/\">NBViewer</a>),\n",
       "  it may mean that your frontend doesn't currently support widgets.\n",
       "</p>\n"
      ],
      "text/plain": [
       "HBox(children=(IntProgress(value=0, max=390810), HTML(value='')))"
      ]
     },
     "metadata": {},
     "output_type": "display_data"
    },
    {
     "name": "stdout",
     "output_type": "stream",
     "text": [
      "\n",
      "\r",
      "          \r",
      "390810/|/100%|| 390810/390810 [06:47<00:00, 1146.41it/s]"
     ]
    }
   ],
   "source": [
    "optimizer = SGD([weights], lr = 0.001)\n",
    "num_epochs = 5\n",
    "\n",
    "df = pd.read_csv('data/split/JC_week1_hour8_40x140.csv')\n",
    "losses = []\n",
    "pbar = tqdm(total=num_epochs*len(df))\n",
    "for epoch in range(num_epochs):\n",
    "    for _, duration, sx, sy, tx, ty in df.sample(frac=1).itertuples():\n",
    "        pbar.update(1)\n",
    "        source = (int(sx), int(sy))\n",
    "        target = (int(tx), int(ty))\n",
    "        path = unif_path_weights(source, target)\n",
    "        pred = (Variable(Tensor(path)) \n",
    "                * torch.nn.functional.softplus(weights)).sum()\n",
    "        loss = (pred - duration) ** 2\n",
    "        optimizer.zero_grad()\n",
    "        loss.backward()\n",
    "        optimizer.step()\n",
    "        losses.append(loss.data[0])\n",
    "#         if pbar.n % 2000 == 0:\n",
    "#             w.value += 1\n",
    "# with tqdm(total=num_epochs * 8030 * 1000) as pbar:\n",
    "#     for epoch in range(num_epochs):\n",
    "#         chunks = pd.read_csv('data/split/JC_week1_hour8_40x140.csv', \n",
    "#                              chunksize=10000)\n",
    "#         total_loss, n = 0, 0\n",
    "#         for df in chunks:\n",
    "#             for _, row in df.iterrows():\n",
    "#                 pbar.update(1)\n",
    "#                 source = (int(row['sx']), int(row['sy']))\n",
    "#                 target = (int(row['tx']), int(row['ty']))\n",
    "                \n",
    "#                 path = unif_path_weights(source, target)\n",
    "#                 pred = (Variable(Tensor(path)) \n",
    "#                         * torch.nn.functional.softplus(weights)).sum()\n",
    "#                 loss = (pred - row['duration']) ** 2\n",
    "#                 optimizer.zero_grad()\n",
    "#                 loss.backward()\n",
    "#                 optimizer.step()\n",
    "#                 total_loss += np.sqrt(loss.data[0])\n",
    "#                 n += 1\n",
    "#                 if pbar.n % 2000 == 0:\n",
    "#                     print(total_loss/n/60)\n",
    "#                     w.value += 1\n",
    "#                     clear_output(wait=True)"
   ]
  },
  {
   "cell_type": "code",
   "execution_count": 72,
   "metadata": {
    "ExecuteTime": {
     "end_time": "2017-11-15T19:18:29.344218Z",
     "start_time": "2017-11-15T19:18:29.335323Z"
    },
    "collapsed": true
   },
   "outputs": [
    {
     "data": {
      "image/png": "[encoded data removed]",
      "text/plain": [
       "<matplotlib.figure.Figure at 0x11c590cf8>"
      ]
     },
     "metadata": {},
     "output_type": "display_data"
    }
   ],
   "source": [
    "plt.plot(np.array(losses).cumsum()/np.arange(1,len(losses)+1))\n",
    "plt.xscale('log')"
   ]
  },
  {
   "cell_type": "code",
   "execution_count": 49,
   "metadata": {},
   "outputs": [
    {
     "data": {
      "text/plain": [
       "Variable containing:\n",
       "  18.2937   15.2162   15.9050  ...    15.0000   15.0000   15.0000\n",
       "  16.5694   15.2121   15.2728  ...    15.0000   15.0000   15.0000\n",
       "  15.5406   14.5234   14.7567  ...    15.0000   15.0000   15.0000\n",
       "             ...                ⋱                ...             \n",
       "  15.0000   15.0000   15.0000  ...    14.1062   91.7242  131.6433\n",
       "  15.0000   15.0000   15.0000  ...    10.0105  116.4045   56.7057\n",
       "  15.0000   15.0000   15.0000  ...   139.4594  143.5306  145.2057\n",
       "[torch.FloatTensor of size 40x140]"
      ]
     },
     "execution_count": 49,
     "metadata": {},
     "output_type": "execute_result"
    }
   ],
   "source": [
    "weights"
   ]
  },
  {
   "cell_type": "code",
   "execution_count": 52,
   "metadata": {
    "ExecuteTime": {
     "end_time": "2017-11-15T04:04:06.458252Z",
     "start_time": "2017-11-15T04:04:05.992102Z"
    }
   },
   "outputs": [
    {
     "data": {
      "image/png": "[encoded data removed]",
      "text/plain": [
       "<matplotlib.figure.Figure at 0x11b6af4e0>"
      ]
     },
     "metadata": {},
     "output_type": "display_data"
    }
   ],
   "source": [
    "plt.hist((weights.data.numpy()[~np.isnan(weights.data.numpy())]));"
   ]
  },
  {
   "cell_type": "raw",
   "metadata": {
    "ExecuteTime": {
     "end_time": "2017-11-15T16:41:16.288107Z",
     "start_time": "2017-11-15T16:41:15.817540Z"
    }
   },
   "source": [
    "plt.hist(minute_loss[minute_loss < 40], bins=100);"
   ]
  },
  {
   "cell_type": "code",
   "execution_count": 185,
   "metadata": {
    "ExecuteTime": {
     "end_time": "2017-11-15T16:37:52.207631Z",
     "start_time": "2017-11-15T16:37:41.490918Z"
    },
    "collapsed": true
   },
   "outputs": [],
   "source": [
    "test = pd.read_csv('data/yellow_tripdata_2009-01_test_JC.csv')"
   ]
  },
  {
   "cell_type": "code",
   "execution_count": 194,
   "metadata": {
    "ExecuteTime": {
     "end_time": "2017-11-15T16:40:31.645799Z",
     "start_time": "2017-11-15T16:40:31.620371Z"
    }
   },
   "outputs": [
    {
     "data": {
      "text/plain": [
       "1142.0"
      ]
     },
     "execution_count": 194,
     "metadata": {},
     "output_type": "execute_result"
    }
   ],
   "source": [
    "np.percentile(test['duration'],99.99)/60"
   ]
  },
  {
   "cell_type": "code",
   "execution_count": null,
   "metadata": {
    "collapsed": true
   },
   "outputs": [],
   "source": []
  }
 ],
 "metadata": {
  "hide_input": false,
  "kernelspec": {
   "display_name": "Python 3",
   "language": "python",
   "name": "python3"
  },
  "language_info": {
   "codemirror_mode": {
    "name": "ipython",
    "version": 3
   },
   "file_extension": ".py",
   "mimetype": "text/x-python",
   "name": "python",
   "nbconvert_exporter": "python",
   "pygments_lexer": "ipython3",
   "version": "3.6.1"
  },
  "toc": {
   "colors": {
    "hover_highlight": "#DAA520",
    "navigate_num": "#000000",
    "navigate_text": "#333333",
    "running_highlight": "#FF0000",
    "selected_highlight": "#FFD700",
    "sidebar_border": "#EEEEEE",
    "wrapper_background": "#FFFFFF"
   },
   "moveMenuLeft": true,
   "nav_menu": {
    "height": "12px",
    "width": "252px"
   },
   "navigate_menu": true,
   "number_sections": true,
   "sideBar": true,
   "threshold": 4,
   "toc_cell": false,
   "toc_section_display": "block",
   "toc_window_display": false,
   "widenNotebook": false
  }
 },
 "nbformat": 4,
 "nbformat_minor": 2
}
