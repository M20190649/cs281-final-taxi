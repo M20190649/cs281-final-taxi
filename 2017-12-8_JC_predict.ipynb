{
 "cells": [
  {
   "cell_type": "code",
   "execution_count": 18,
   "metadata": {},
   "outputs": [
    {
     "name": "stdout",
     "output_type": "stream",
     "text": [
      "The Cython extension is already loaded. To reload it, use:\n",
      "  %reload_ext Cython\n"
     ]
    }
   ],
   "source": [
    "import pandas as pd\n",
    "import geopandas as gpd\n",
    "from matplotlib import pyplot as plt\n",
    "from numpy import clip\n",
    "from torch.autograd import Variable\n",
    "import torch\n",
    "from torch import Tensor\n",
    "from torch.optim import SGD, Adam\n",
    "from IPython.display import clear_output\n",
    "import ipywidgets as widgets\n",
    "from ipywidgets import interact\n",
    "from torch.nn.functional import softplus\n",
    "w = widgets.IntText()\n",
    "%matplotlib inline\n",
    "%run utils.py\n",
    "%load_ext Cython\n",
    "from numpy.random import permutation\n",
    "M, N = 20, 70\n",
    "\n",
    "def log_sum_exp(value):\n",
    "    m = torch.max(value)\n",
    "    sum_exp = torch.sum(torch.exp(value - m))\n",
    "    return m + torch.log(sum_exp)"
   ]
  },
  {
   "cell_type": "code",
   "execution_count": 19,
   "metadata": {},
   "outputs": [],
   "source": [
    "%%cython \n",
    "import numpy as np\n",
    "cimport numpy as np\n",
    "\n",
    "cdef int M = 20\n",
    "cdef int N = 70\n",
    "DTYPE = int\n",
    "ctypedef np.int_t DTYPE_t\n",
    "\n",
    "\n",
    "def random_path(int sx, int sy, int tx, int ty, int L):\n",
    "    \"\"\"sample L random paths from sx, sy to tx, ty\"\"\"\n",
    "    cdef int hor_dir, ver_dir, X, Y, XY\n",
    "    \n",
    "    hor_dir = (tx - sx) > 0\n",
    "    ver_dir = (ty - sy) > 0\n",
    "    \n",
    "    cdef np.ndarray[DTYPE_t, ndim=3] paths = np.zeros([M, N, L], dtype=DTYPE)\n",
    "    paths[sx,sy,:] = 1\n",
    "    \n",
    "    X = abs(tx - sx) \n",
    "    Y = abs(ty - sy) \n",
    "    XY = X + Y\n",
    "    \n",
    "    cdef np.ndarray[DTYPE_t, ndim=1] path = np.zeros(X+Y, dtype=DTYPE)\n",
    "    path[:X] = 1\n",
    "    \n",
    "    cdef int l, i, x, y\n",
    "\n",
    "    for l in range(L):\n",
    "        x, y = sx, sy\n",
    "        np.random.shuffle(path)\n",
    "        for i in range(XY):\n",
    "            if path[i]:\n",
    "                x += 2 * hor_dir - 1\n",
    "            else:\n",
    "                y += 2 * ver_dir - 1\n",
    "            paths[x,y,l] = 1\n",
    "    return paths"
   ]
  },
  {
   "cell_type": "code",
   "execution_count": 47,
   "metadata": {},
   "outputs": [],
   "source": [
    "L = 50\n",
    "s2 = 10 ** 2 # sigma2 = (10 s) ** 2\n",
    "\n",
    "data_file = 'data/split_test/JC_week1_hour8_test_40x140.csv'\n",
    "weight_file = 'results/weights_week1hour8_4.npy'\n",
    "weights = softplus(Variable(Tensor(np.load(weight_file))))\n",
    "def predict(sx, sy, tx, ty):\n",
    "    sx, sy, tx, ty = int(sx//2), int(sy//2), int(tx//2), int(ty//2)\n",
    "    paths = random_path(sx, sy, tx, ty, L)\n",
    "    weighted_paths = (Variable(Tensor(paths.astype(float))) \n",
    "                      * weights.unsqueeze(-1))\n",
    "    weight_sums = weighted_paths.sum(dim=0).sum(dim=0) # vec of size L\n",
    "    logprobs = -weight_sums - log_sum_exp(-weight_sums)\n",
    "    return (weight_sums * logprobs.exp()).sum().data[0]    \n",
    "                                                                "
   ]
  },
  {
   "cell_type": "code",
   "execution_count": 50,
   "metadata": {},
   "outputs": [],
   "source": [
    "%run test.py"
   ]
  },
  {
   "cell_type": "code",
   "execution_count": 51,
   "metadata": {},
   "outputs": [
    {
     "data": {
      "application/vnd.jupyter.widget-view+json": {
       "model_id": "d610fab2e39c4054b324c03e82a07bad",
       "version_major": 2,
       "version_minor": 0
      },
      "text/plain": [
       "A Jupyter Widget"
      ]
     },
     "metadata": {},
     "output_type": "display_data"
    },
    {
     "name": "stdout",
     "output_type": "stream",
     "text": [
      "\n"
     ]
    }
   ],
   "source": [
    "errs = test(predict=predict, result_file='results/softmax_tues8am_Fri2208', \n",
    "     test_file=data_file)"
   ]
  },
  {
   "cell_type": "code",
   "execution_count": 36,
   "metadata": {},
   "outputs": [],
   "source": [
    "df = pd.read_csv(data_file)"
   ]
  },
  {
   "cell_type": "code",
   "execution_count": 46,
   "metadata": {},
   "outputs": [
    {
     "data": {
      "text/html": [
       "<div>\n",
       "<style>\n",
       "    .dataframe thead tr:only-child th {\n",
       "        text-align: right;\n",
       "    }\n",
       "\n",
       "    .dataframe thead th {\n",
       "        text-align: left;\n",
       "    }\n",
       "\n",
       "    .dataframe tbody tr th {\n",
       "        vertical-align: top;\n",
       "    }\n",
       "</style>\n",
       "<table border=\"1\" class=\"dataframe\">\n",
       "  <thead>\n",
       "    <tr style=\"text-align: right;\">\n",
       "      <th></th>\n",
       "      <th>duration</th>\n",
       "      <th>sx</th>\n",
       "      <th>sy</th>\n",
       "      <th>tx</th>\n",
       "      <th>ty</th>\n",
       "    </tr>\n",
       "  </thead>\n",
       "  <tbody>\n",
       "    <tr>\n",
       "      <th>0</th>\n",
       "      <td>480.0</td>\n",
       "      <td>25.0</td>\n",
       "      <td>37.0</td>\n",
       "      <td>34.0</td>\n",
       "      <td>28.0</td>\n",
       "    </tr>\n",
       "    <tr>\n",
       "      <th>1</th>\n",
       "      <td>780.0</td>\n",
       "      <td>9.0</td>\n",
       "      <td>26.0</td>\n",
       "      <td>22.0</td>\n",
       "      <td>45.0</td>\n",
       "    </tr>\n",
       "    <tr>\n",
       "      <th>2</th>\n",
       "      <td>720.0</td>\n",
       "      <td>22.0</td>\n",
       "      <td>102.0</td>\n",
       "      <td>7.0</td>\n",
       "      <td>93.0</td>\n",
       "    </tr>\n",
       "    <tr>\n",
       "      <th>3</th>\n",
       "      <td>480.0</td>\n",
       "      <td>15.0</td>\n",
       "      <td>39.0</td>\n",
       "      <td>23.0</td>\n",
       "      <td>44.0</td>\n",
       "    </tr>\n",
       "    <tr>\n",
       "      <th>4</th>\n",
       "      <td>1178.0</td>\n",
       "      <td>10.0</td>\n",
       "      <td>23.0</td>\n",
       "      <td>23.0</td>\n",
       "      <td>59.0</td>\n",
       "    </tr>\n",
       "  </tbody>\n",
       "</table>\n",
       "</div>"
      ],
      "text/plain": [
       "   duration    sx     sy    tx    ty\n",
       "0     480.0  25.0   37.0  34.0  28.0\n",
       "1     780.0   9.0   26.0  22.0  45.0\n",
       "2     720.0  22.0  102.0   7.0  93.0\n",
       "3     480.0  15.0   39.0  23.0  44.0\n",
       "4    1178.0  10.0   23.0  23.0  59.0"
      ]
     },
     "execution_count": 46,
     "metadata": {},
     "output_type": "execute_result"
    }
   ],
   "source": [
    "df.head()"
   ]
  },
  {
   "cell_type": "code",
   "execution_count": 54,
   "metadata": {},
   "outputs": [
    {
     "data": {
      "text/plain": [
       "<matplotlib.image.AxesImage at 0x1241b6048>"
      ]
     },
     "execution_count": 54,
     "metadata": {},
     "output_type": "execute_result"
    },
    {
     "data": {
      "image/png": "[encoded data removed]",
      "text/plain": [
       "<matplotlib.figure.Figure at 0x122fa4908>"
      ]
     },
     "metadata": {},
     "output_type": "display_data"
    }
   ],
   "source": [
    "plt.figure(figsize=(10,10))\n",
    "plt.imshow(softplus(weights).data.numpy().T, origin='lower',\n",
    "           clim=(0,80), cmap='bwr')"
   ]
  },
  {
   "cell_type": "code",
   "execution_count": null,
   "metadata": {},
   "outputs": [],
   "source": [
    "\\"
   ]
  }
 ],
 "metadata": {
  "kernelspec": {
   "display_name": "Python 3",
   "language": "python",
   "name": "python3"
  },
  "language_info": {
   "codemirror_mode": {
    "name": "ipython",
    "version": 3
   },
   "file_extension": ".py",
   "mimetype": "text/x-python",
   "name": "python",
   "nbconvert_exporter": "python",
   "pygments_lexer": "ipython3",
   "version": "3.6.3"
  }
 },
 "nbformat": 4,
 "nbformat_minor": 2
}
