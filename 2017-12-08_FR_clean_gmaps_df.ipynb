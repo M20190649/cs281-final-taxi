{
 "cells": [
  {
   "cell_type": "code",
   "execution_count": 14,
   "metadata": {},
   "outputs": [],
   "source": [
    "import pandas as pd\n",
    "\n",
    "%run utils.py"
   ]
  },
  {
   "cell_type": "code",
   "execution_count": 12,
   "metadata": {},
   "outputs": [
    {
     "name": "stdout",
     "output_type": "stream",
     "text": [
      "CPU times: user 4.87 s, sys: 570 ms, total: 5.44 s\n",
      "Wall time: 5.48 s\n"
     ]
    }
   ],
   "source": [
    "%time df = pd.read_csv('data/yellow_tripdata_2009-01_test.csv')"
   ]
  },
  {
   "cell_type": "code",
   "execution_count": 17,
   "metadata": {},
   "outputs": [
    {
     "data": {
      "text/html": [
       "<div>\n",
       "<style>\n",
       "    .dataframe thead tr:only-child th {\n",
       "        text-align: right;\n",
       "    }\n",
       "\n",
       "    .dataframe thead th {\n",
       "        text-align: left;\n",
       "    }\n",
       "\n",
       "    .dataframe tbody tr th {\n",
       "        vertical-align: top;\n",
       "    }\n",
       "</style>\n",
       "<table border=\"1\" class=\"dataframe\">\n",
       "  <thead>\n",
       "    <tr style=\"text-align: right;\">\n",
       "      <th></th>\n",
       "      <th>duration</th>\n",
       "      <th>Trip_Distance</th>\n",
       "      <th>Start_Lon</th>\n",
       "      <th>Start_Lat</th>\n",
       "      <th>End_Lon</th>\n",
       "      <th>End_Lat</th>\n",
       "      <th>week_0</th>\n",
       "      <th>week_1</th>\n",
       "      <th>week_2</th>\n",
       "      <th>week_3</th>\n",
       "      <th>...</th>\n",
       "      <th>hour_18</th>\n",
       "      <th>hour_19</th>\n",
       "      <th>hour_20</th>\n",
       "      <th>hour_21</th>\n",
       "      <th>hour_22</th>\n",
       "      <th>hour_23</th>\n",
       "      <th>start_lon_raw</th>\n",
       "      <th>start_lat_raw</th>\n",
       "      <th>end_lon_raw</th>\n",
       "      <th>end_lat_raw</th>\n",
       "    </tr>\n",
       "  </thead>\n",
       "  <tbody>\n",
       "    <tr>\n",
       "      <th>0</th>\n",
       "      <td>300.0</td>\n",
       "      <td>-0.265036</td>\n",
       "      <td>-0.600812</td>\n",
       "      <td>-0.214163</td>\n",
       "      <td>-0.739884</td>\n",
       "      <td>-0.961962</td>\n",
       "      <td>0</td>\n",
       "      <td>0</td>\n",
       "      <td>0</td>\n",
       "      <td>0</td>\n",
       "      <td>...</td>\n",
       "      <td>0</td>\n",
       "      <td>0</td>\n",
       "      <td>0</td>\n",
       "      <td>0</td>\n",
       "      <td>0</td>\n",
       "      <td>0</td>\n",
       "      <td>-73.992635</td>\n",
       "      <td>40.748362</td>\n",
       "      <td>-73.995585</td>\n",
       "      <td>40.728307</td>\n",
       "    </tr>\n",
       "    <tr>\n",
       "      <th>1</th>\n",
       "      <td>739.0</td>\n",
       "      <td>-0.411026</td>\n",
       "      <td>0.370949</td>\n",
       "      <td>-0.178940</td>\n",
       "      <td>-0.019851</td>\n",
       "      <td>0.218675</td>\n",
       "      <td>0</td>\n",
       "      <td>1</td>\n",
       "      <td>0</td>\n",
       "      <td>0</td>\n",
       "      <td>...</td>\n",
       "      <td>0</td>\n",
       "      <td>0</td>\n",
       "      <td>0</td>\n",
       "      <td>0</td>\n",
       "      <td>0</td>\n",
       "      <td>0</td>\n",
       "      <td>-73.969387</td>\n",
       "      <td>40.749159</td>\n",
       "      <td>-73.976872</td>\n",
       "      <td>40.758792</td>\n",
       "    </tr>\n",
       "    <tr>\n",
       "      <th>2</th>\n",
       "      <td>442.0</td>\n",
       "      <td>-0.411026</td>\n",
       "      <td>0.818415</td>\n",
       "      <td>1.322792</td>\n",
       "      <td>0.578054</td>\n",
       "      <td>0.586712</td>\n",
       "      <td>1</td>\n",
       "      <td>0</td>\n",
       "      <td>0</td>\n",
       "      <td>0</td>\n",
       "      <td>...</td>\n",
       "      <td>1</td>\n",
       "      <td>0</td>\n",
       "      <td>0</td>\n",
       "      <td>0</td>\n",
       "      <td>0</td>\n",
       "      <td>0</td>\n",
       "      <td>-73.958682</td>\n",
       "      <td>40.783139</td>\n",
       "      <td>-73.961333</td>\n",
       "      <td>40.768295</td>\n",
       "    </tr>\n",
       "    <tr>\n",
       "      <th>3</th>\n",
       "      <td>960.0</td>\n",
       "      <td>1.003253</td>\n",
       "      <td>-0.516251</td>\n",
       "      <td>-0.810082</td>\n",
       "      <td>1.366615</td>\n",
       "      <td>-1.343592</td>\n",
       "      <td>0</td>\n",
       "      <td>0</td>\n",
       "      <td>0</td>\n",
       "      <td>0</td>\n",
       "      <td>...</td>\n",
       "      <td>0</td>\n",
       "      <td>0</td>\n",
       "      <td>0</td>\n",
       "      <td>0</td>\n",
       "      <td>0</td>\n",
       "      <td>0</td>\n",
       "      <td>-73.990612</td>\n",
       "      <td>40.734878</td>\n",
       "      <td>-73.940839</td>\n",
       "      <td>40.718453</td>\n",
       "    </tr>\n",
       "    <tr>\n",
       "      <th>4</th>\n",
       "      <td>394.0</td>\n",
       "      <td>-0.274160</td>\n",
       "      <td>-0.171194</td>\n",
       "      <td>-0.580138</td>\n",
       "      <td>-0.547264</td>\n",
       "      <td>0.124720</td>\n",
       "      <td>0</td>\n",
       "      <td>0</td>\n",
       "      <td>0</td>\n",
       "      <td>0</td>\n",
       "      <td>...</td>\n",
       "      <td>0</td>\n",
       "      <td>0</td>\n",
       "      <td>0</td>\n",
       "      <td>0</td>\n",
       "      <td>0</td>\n",
       "      <td>0</td>\n",
       "      <td>-73.982357</td>\n",
       "      <td>40.740081</td>\n",
       "      <td>-73.990579</td>\n",
       "      <td>40.756366</td>\n",
       "    </tr>\n",
       "  </tbody>\n",
       "</table>\n",
       "<p>5 rows × 41 columns</p>\n",
       "</div>"
      ],
      "text/plain": [
       "   duration  Trip_Distance  Start_Lon  Start_Lat   End_Lon   End_Lat  week_0  \\\n",
       "0     300.0      -0.265036  -0.600812  -0.214163 -0.739884 -0.961962       0   \n",
       "1     739.0      -0.411026   0.370949  -0.178940 -0.019851  0.218675       0   \n",
       "2     442.0      -0.411026   0.818415   1.322792  0.578054  0.586712       1   \n",
       "3     960.0       1.003253  -0.516251  -0.810082  1.366615 -1.343592       0   \n",
       "4     394.0      -0.274160  -0.171194  -0.580138 -0.547264  0.124720       0   \n",
       "\n",
       "   week_1  week_2  week_3     ...       hour_18  hour_19  hour_20  hour_21  \\\n",
       "0       0       0       0     ...             0        0        0        0   \n",
       "1       1       0       0     ...             0        0        0        0   \n",
       "2       0       0       0     ...             1        0        0        0   \n",
       "3       0       0       0     ...             0        0        0        0   \n",
       "4       0       0       0     ...             0        0        0        0   \n",
       "\n",
       "   hour_22  hour_23  start_lon_raw  start_lat_raw  end_lon_raw  end_lat_raw  \n",
       "0        0        0     -73.992635      40.748362   -73.995585    40.728307  \n",
       "1        0        0     -73.969387      40.749159   -73.976872    40.758792  \n",
       "2        0        0     -73.958682      40.783139   -73.961333    40.768295  \n",
       "3        0        0     -73.990612      40.734878   -73.940839    40.718453  \n",
       "4        0        0     -73.982357      40.740081   -73.990579    40.756366  \n",
       "\n",
       "[5 rows x 41 columns]"
      ]
     },
     "execution_count": 17,
     "metadata": {},
     "output_type": "execute_result"
    }
   ],
   "source": [
    "df.head()"
   ]
  },
  {
   "cell_type": "code",
   "execution_count": 15,
   "metadata": {},
   "outputs": [],
   "source": [
    "df = unnormalize(df)"
   ]
  },
  {
   "cell_type": "code",
   "execution_count": 16,
   "metadata": {},
   "outputs": [],
   "source": [
    "df_tues8am = df[(df.week_1 == 1) & (df.hour_8 == 1)]"
   ]
  },
  {
   "cell_type": "code",
   "execution_count": 21,
   "metadata": {},
   "outputs": [],
   "source": [
    "df_tues8am = df_tues8am.loc[:,('duration', 'start_lat_raw', 'start_lon_raw', 'end_lat_raw', 'end_lon_raw')]"
   ]
  },
  {
   "cell_type": "code",
   "execution_count": 22,
   "metadata": {},
   "outputs": [],
   "source": [
    "df_tues8am = df_tues8am[(df_tues8am.duration > 120) & (df_tues8am.duration < 7200)]"
   ]
  },
  {
   "cell_type": "code",
   "execution_count": 25,
   "metadata": {},
   "outputs": [],
   "source": [
    "df_tues8am.reset_index(inplace=True, drop=True)"
   ]
  },
  {
   "cell_type": "code",
   "execution_count": 28,
   "metadata": {},
   "outputs": [],
   "source": [
    "df_tues8am.to_csv('data/gmaps_test.csv', index=False)"
   ]
  },
  {
   "cell_type": "code",
   "execution_count": null,
   "metadata": {},
   "outputs": [],
   "source": []
  }
 ],
 "metadata": {
  "kernelspec": {
   "display_name": "Python 3",
   "language": "python",
   "name": "python3"
  },
  "language_info": {
   "codemirror_mode": {
    "name": "ipython",
    "version": 3
   },
   "file_extension": ".py",
   "mimetype": "text/x-python",
   "name": "python",
   "nbconvert_exporter": "python",
   "pygments_lexer": "ipython3",
   "version": "3.6.1"
  }
 },
 "nbformat": 4,
 "nbformat_minor": 2
}
