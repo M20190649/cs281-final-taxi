{
 "cells": [
  {
   "cell_type": "code",
   "execution_count": 166,
   "metadata": {},
   "outputs": [
    {
     "name": "stdout",
     "output_type": "stream",
     "text": [
      "The Cython extension is already loaded. To reload it, use:\n",
      "  %reload_ext Cython\n"
     ]
    }
   ],
   "source": [
    "import pandas as pd\n",
    "import geopandas as gpd\n",
    "from matplotlib import pyplot as plt\n",
    "from numpy import clip\n",
    "from torch.autograd import Variable\n",
    "import torch\n",
    "from torch import Tensor\n",
    "from torch.optim import SGD, Adam\n",
    "from IPython.display import clear_output\n",
    "import ipywidgets as widgets\n",
    "from ipywidgets import interact\n",
    "from torch.nn.functional import softplus\n",
    "w = widgets.IntText()\n",
    "%matplotlib inline\n",
    "%run utils.py\n",
    "%load_ext Cython\n",
    "from numpy.random import permutation\n",
    "M, N = 40, 140"
   ]
  },
  {
   "cell_type": "code",
   "execution_count": 104,
   "metadata": {},
   "outputs": [],
   "source": [
    "%%cython\n",
    "import numpy as np\n",
    "cimport numpy as np\n",
    "\n",
    "cdef int M = 40\n",
    "cdef int N = 140\n",
    "DTYPE = np.int\n",
    "ctypedef np.int_t DTYPE_t\n",
    "\n",
    "\n",
    "def random_path(int sx, int sy, int tx, int ty, int L):\n",
    "    cdef int hor_dir = np.sign(tx - sx)\n",
    "    cdef int ver_dir = np.sign(ty - sy)\n",
    "    cdef np.ndarray[DTYPE_t, ndim=3] paths = np.zeros([M, N, L], dtype=DTYPE)\n",
    "    paths[sx,sy,:] = 1\n",
    "    cdef int X = np.abs(tx - sx) \n",
    "    cdef int Y = np.abs(ty - sy) \n",
    "    cdef np.ndarray[DTYPE_t, ndim=1] nullpth = np.zeros(X+Y, dtype=DTYPE)\n",
    "    nullpth[:X] = 1\n",
    "    \n",
    "    cdef np.ndarray[DTYPE_t, ndim=1] path = np.zeros(X+Y, dtype=DTYPE)\n",
    "    cdef np.ndarray[DTYPE_t, ndim=1] x_indices = np.zeros(X+Y, dtype=DTYPE)\n",
    "    cdef np.ndarray[DTYPE_t, ndim=1] y_indices = np.zeros(X+Y, dtype=DTYPE)\n",
    "    cdef int l\n",
    "\n",
    "    for l in range(L):\n",
    "        path = np.random.permutation(nullpth)\n",
    "        x_indices = path.cumsum() * hor_dir + sx\n",
    "        y_indices = (1-path).cumsum() * ver_dir + sy\n",
    "        paths[x_indices, y_indices, l] = 1\n",
    "    return paths"
   ]
  },
  {
   "cell_type": "code",
   "execution_count": 167,
   "metadata": {},
   "outputs": [],
   "source": [
    "%%cython \n",
    "import numpy as np\n",
    "cimport numpy as np\n",
    "\n",
    "cdef int M = 40\n",
    "cdef int N = 140\n",
    "DTYPE = int\n",
    "ctypedef np.int_t DTYPE_t\n",
    "\n",
    "\n",
    "def random_path(int sx, int sy, int tx, int ty, int L):\n",
    "    cdef int hor_dir, ver_dir, X, Y, XY\n",
    "    \n",
    "    hor_dir = (tx - sx) > 0\n",
    "    ver_dir = (ty - sy) > 0\n",
    "    \n",
    "    cdef np.ndarray[DTYPE_t, ndim=3] paths = np.zeros([M, N, L], dtype=DTYPE)\n",
    "    paths[sx,sy,:] = 1\n",
    "    \n",
    "    X = abs(tx - sx) \n",
    "    Y = abs(ty - sy) \n",
    "    XY = X + Y\n",
    "    \n",
    "    cdef np.ndarray[DTYPE_t, ndim=1] path = np.zeros(X+Y, dtype=DTYPE)\n",
    "    path[:X] = 1\n",
    "    \n",
    "    cdef int l, i, x, y\n",
    "\n",
    "    for l in range(L):\n",
    "        x, y = sx, sy\n",
    "        np.random.shuffle(path)\n",
    "        for i in range(XY):\n",
    "            if path[i]:\n",
    "                x += 2 * hor_dir - 1\n",
    "            else:\n",
    "                y += 2 * ver_dir - 1\n",
    "            paths[x,y,l] = 1\n",
    "    return paths"
   ]
  },
  {
   "cell_type": "code",
   "execution_count": 168,
   "metadata": {},
   "outputs": [],
   "source": [
    "def log_sum_exp(value):\n",
    "    m = torch.max(value)\n",
    "    sum_exp = torch.sum(torch.exp(value - m))\n",
    "    return m + torch.log(sum_exp)"
   ]
  },
  {
   "cell_type": "code",
   "execution_count": 169,
   "metadata": {},
   "outputs": [],
   "source": [
    "weights = Variable((10 * torch.ones((M,N))).float(), requires_grad=True)\n",
    "L = 30\n",
    "s2 = 30 ** 2 # sigma2 = (30 s) ** 2"
   ]
  },
  {
   "cell_type": "code",
   "execution_count": 160,
   "metadata": {},
   "outputs": [
    {
     "data": {
      "application/vnd.jupyter.widget-view+json": {
       "model_id": "db6c3525b7654d88885916cfdd1f35bb",
       "version_major": 2,
       "version_minor": 0
      },
      "text/plain": [
       "A Jupyter Widget"
      ]
     },
     "metadata": {},
     "output_type": "display_data"
    },
    {
     "name": "stdout",
     "output_type": "stream",
     "text": [
      "\n"
     ]
    }
   ],
   "source": [
    "# chunks = pd.read_csv('data/yellow_tripdata_2009-01_train_JC.csv', chunksize=100000)\n",
    "# h = True\n",
    "# for df in tqdm(chunks, total=93):\n",
    "#     try:\n",
    "#         df['sx'] = np.clip(np.round(M/10 * df['start_x'] ), 0, M-1) \n",
    "#         df['sy'] = np.clip(np.round(M/10 * df['start_y'] ), 0, N-1) \n",
    "#         df['tx'] = np.clip(np.round(M/10 * df['end_x'] ), 0, M-1) \n",
    "#         df['ty'] = np.clip(np.round(M/10 * df['end_y'] ), 0, N-1) \n",
    "#         (df.loc[(df['duration'] < 3600 * 2) & (df['duration'] > 120), \n",
    "#                ['duration','sx','sy','tx','ty']]\n",
    "#          .to_csv('data/yellow_tripdata_2009-01_train_JC_40x140.csv', \n",
    "#                  mode='a', index=False, header=h))\n",
    "#     except:\n",
    "#         print('exception encountered')\n",
    "#         continue\n",
    "#     h = False"
   ]
  },
  {
   "cell_type": "code",
   "execution_count": 161,
   "metadata": {},
   "outputs": [],
   "source": [
    "df = pd.read_csv('data/yellow_tripdata_2009-01_train_JC_40x140.csv')"
   ]
  },
  {
   "cell_type": "code",
   "execution_count": 170,
   "metadata": {},
   "outputs": [],
   "source": [
    "optimizer = Adam([weights], lr = 0.05)\n",
    "num_epochs = 5\n",
    "def loss_fn(paths, t):\n",
    "    weighted_paths = (Variable(Tensor(paths.astype(float)))\n",
    "                              * weights.unsqueeze(-1))\n",
    "    weight_sums = weighted_paths.sum(dim=0).sum(dim=0)\n",
    "    first = (-1/(2 * L * s2) * (t - weight_sums).pow(2).sum())\n",
    "    second = - weighted_paths.sum() / L\n",
    "    third = - log_sum_exp(-weight_sums)\n",
    "    loss = -(first + second + third)\n",
    "    return loss "
   ]
  },
  {
   "cell_type": "code",
   "execution_count": null,
   "metadata": {},
   "outputs": [
    {
     "name": "stdout",
     "output_type": "stream",
     "text": [
      "2290 \t 47.22645922581702\n"
     ]
    }
   ],
   "source": [
    "with tqdm(total=num_epochs * 9529942) as pbar:\n",
    "    total_loss = 0\n",
    "    for epoch in range(num_epochs):\n",
    "        for _, row in df.iterrows():\n",
    "            pbar.update(1)\n",
    "            paths = random_path(int(row['sx']), int(row['sy']), \n",
    "                                int(row['tx']), int(row['ty']), L)\n",
    "            t = float(row['duration'])\n",
    "            loss = loss_fn(paths, t)\n",
    "            optimizer.zero_grad()\n",
    "            loss.backward()\n",
    "            optimizer.step()\n",
    "            total_loss += loss.data[0]\n",
    "            if pbar.n % 10 == 0:\n",
    "                print(pbar.n,'\\t',total_loss/pbar.n)\n",
    "                clear_output(wait=True)\n",
    "            if pbar.n % 500 == 0:\n",
    "                w.value += 1    "
   ]
  },
  {
   "cell_type": "code",
   "execution_count": 172,
   "metadata": {},
   "outputs": [
    {
     "data": {
      "application/vnd.jupyter.widget-view+json": {
       "model_id": "5d8e99ca9ff84a52b59c50f50e1e4230",
       "version_major": 2,
       "version_minor": 0
      },
      "text/plain": [
       "A Jupyter Widget"
      ]
     },
     "metadata": {},
     "output_type": "display_data"
    }
   ],
   "source": [
    "@interact(x=w)\n",
    "def plot(x):\n",
    "    plt.figure(figsize=(10,10))\n",
    "    plt.imshow(torch.nn.functional.softplus(weights).data.numpy().T, \n",
    "               clim=(10,30), cmap='bwr', origin='lower')\n",
    "    plt.savefig('{}.png'.format(x))\n",
    "    plt.show()"
   ]
  },
  {
   "cell_type": "code",
   "execution_count": null,
   "metadata": {},
   "outputs": [],
   "source": []
  }
 ],
 "metadata": {
  "kernelspec": {
   "display_name": "Python 3",
   "language": "python",
   "name": "python3"
  },
  "language_info": {
   "codemirror_mode": {
    "name": "ipython",
    "version": 3
   },
   "file_extension": ".py",
   "mimetype": "text/x-python",
   "name": "python",
   "nbconvert_exporter": "python",
   "pygments_lexer": "ipython3",
   "version": "3.6.3"
  }
 },
 "nbformat": 4,
 "nbformat_minor": 2
}
