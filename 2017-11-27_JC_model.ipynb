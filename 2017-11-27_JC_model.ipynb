{
 "cells": [
  {
   "cell_type": "code",
   "execution_count": 3,
   "metadata": {},
   "outputs": [
    {
     "name": "stdout",
     "output_type": "stream",
     "text": [
      "The Cython extension is already loaded. To reload it, use:\n",
      "  %reload_ext Cython\n"
     ]
    }
   ],
   "source": [
    "import pandas as pd\n",
    "import geopandas as gpd\n",
    "from matplotlib import pyplot as plt\n",
    "from numpy import clip\n",
    "from torch.autograd import Variable\n",
    "import torch\n",
    "from torch import Tensor\n",
    "from torch.optim import SGD, Adam\n",
    "from IPython.display import clear_output\n",
    "import ipywidgets as widgets\n",
    "from ipywidgets import interact\n",
    "from torch.nn.functional import softplus\n",
    "w = widgets.IntText()\n",
    "%matplotlib inline\n",
    "%run utils.py\n",
    "%load_ext Cython\n",
    "from numpy.random import permutation\n",
    "M, N = 20, 70\n",
    "\n",
    "def log_sum_exp(value):\n",
    "    m = torch.max(value)\n",
    "    sum_exp = torch.sum(torch.exp(value - m))\n",
    "    return m + torch.log(sum_exp)"
   ]
  },
  {
   "cell_type": "code",
   "execution_count": 4,
   "metadata": {},
   "outputs": [],
   "source": [
    "%%cython \n",
    "import numpy as np\n",
    "cimport numpy as np\n",
    "\n",
    "cdef int M = 20\n",
    "cdef int N = 70\n",
    "DTYPE = int\n",
    "ctypedef np.int_t DTYPE_t\n",
    "\n",
    "\n",
    "def random_path(int sx, int sy, int tx, int ty, int L):\n",
    "    \"\"\"sample L random paths from sx, sy to tx, ty\"\"\"\n",
    "    cdef int hor_dir, ver_dir, X, Y, XY\n",
    "    \n",
    "    hor_dir = (tx - sx) > 0\n",
    "    ver_dir = (ty - sy) > 0\n",
    "    \n",
    "    cdef np.ndarray[DTYPE_t, ndim=3] paths = np.zeros([M, N, L], dtype=DTYPE)\n",
    "    paths[sx,sy,:] = 1\n",
    "    \n",
    "    X = abs(tx - sx) \n",
    "    Y = abs(ty - sy) \n",
    "    XY = X + Y\n",
    "    \n",
    "    cdef np.ndarray[DTYPE_t, ndim=1] path = np.zeros(X+Y, dtype=DTYPE)\n",
    "    path[:X] = 1\n",
    "    \n",
    "    cdef int l, i, x, y\n",
    "\n",
    "    for l in range(L):\n",
    "        x, y = sx, sy\n",
    "        np.random.shuffle(path)\n",
    "        for i in range(XY):\n",
    "            if path[i]:\n",
    "                x += 2 * hor_dir - 1\n",
    "            else:\n",
    "                y += 2 * ver_dir - 1\n",
    "            paths[x,y,l] = 1\n",
    "    return paths"
   ]
  },
  {
   "cell_type": "code",
   "execution_count": null,
   "metadata": {},
   "outputs": [
    {
     "name": "stdout",
     "output_type": "stream",
     "text": [
      "4 131\n"
     ]
    },
    {
     "data": {
      "application/vnd.jupyter.widget-view+json": {
       "model_id": "2aeafc49e10a45e4bfdf5ee571ad04e7",
       "version_major": 2,
       "version_minor": 0
      },
      "text/plain": [
       "A Jupyter Widget"
      ]
     },
     "metadata": {},
     "output_type": "display_data"
    },
    {
     "name": "stdout",
     "output_type": "stream",
     "text": [
      "\n",
      "8 6\n"
     ]
    },
    {
     "data": {
      "application/vnd.jupyter.widget-view+json": {
       "model_id": "d7b4eb7e48b14ea4955a7688d1f0e81b",
       "version_major": 2,
       "version_minor": 0
      },
      "text/plain": [
       "A Jupyter Widget"
      ]
     },
     "metadata": {},
     "output_type": "display_data"
    },
    {
     "name": "stdout",
     "output_type": "stream",
     "text": [
      "\n",
      "12 8\n"
     ]
    },
    {
     "data": {
      "application/vnd.jupyter.widget-view+json": {
       "model_id": "3dc350a48cac4f3b9a497b7b4d6c0875",
       "version_major": 2,
       "version_minor": 0
      },
      "text/plain": [
       "A Jupyter Widget"
      ]
     },
     "metadata": {},
     "output_type": "display_data"
    },
    {
     "name": "stdout",
     "output_type": "stream",
     "text": [
      "\n"
     ]
    }
   ],
   "source": [
    "# hyperparameters of the model\n",
    "L = 20\n",
    "s2 = 10 ** 2 # sigma2 = (10 s) ** 2\n",
    "\n",
    "for hour in [4, 8, 12, 18]:\n",
    "    # file to run model on\n",
    "    filename = 'data/split/JC_week1_hour{}_40x140.csv'.format(hour)\n",
    "    df = pd.read_csv(filename)\n",
    "    df[['sx', 'sy','tx','ty']] = df[['sx', 'sy','tx','ty']] // 2\n",
    "    weights = Variable((15 * torch.ones((M,N))).float(), requires_grad=True)\n",
    "    optimizer = Adam([weights], lr = 0.005)\n",
    "    num_epochs = int(500000//len(df))\n",
    "    print(hour, num_epochs)\n",
    "    def loss_fn(paths, t):\n",
    "        \"\"\"Implement the loss function\"\"\"\n",
    "        weighted_paths = (Variable(Tensor(paths.astype(float)))\n",
    "                                  * weights.unsqueeze(-1))\n",
    "        weight_sums = weighted_paths.sum(dim=0).sum(dim=0)\n",
    "        first = (-1/(2 * L * s2) * (t - weight_sums).pow(2).sum())\n",
    "        second = - weighted_paths.sum() / L\n",
    "        third = - log_sum_exp(-weight_sums)\n",
    "        loss = -(first + second + third)\n",
    "        return loss \n",
    "    pbar = tqdm(total=num_epochs * len(df))\n",
    "    losses = []\n",
    "    for epoch in range(num_epochs):\n",
    "        for _, duration, sx, sy, tx, ty in (df.sample(frac=1).itertuples()):\n",
    "            pbar.update(1)\n",
    "            paths = random_path(int(sx), int(sy), \n",
    "                                int(tx), int(ty), L)\n",
    "            t = float(duration)\n",
    "            loss = loss_fn(paths, t)\n",
    "            optimizer.zero_grad()\n",
    "            loss.backward()\n",
    "            optimizer.step()\n",
    "            losses.append(loss.data[0])\n",
    "    np.save('results/weights_week1hour{}_f.npy'.format(hour), weights.data.numpy())\n",
    "    np.save('results/losses_week1hour{}_f.npy'.format(hour), np.array(losses))"
   ]
  },
  {
   "cell_type": "code",
   "execution_count": 42,
   "metadata": {},
   "outputs": [],
   "source": [
    "\n"
   ]
  },
  {
   "cell_type": "markdown",
   "metadata": {},
   "source": [
    "The loss function is $$\n",
    "\\sum_{k=1}^N\\left\\{-\\frac{1}{2L\\sigma^2}\\sum_{j=1}^L \\left(T^{(k)} - \\sum_{\\text{path}_j} w_i\\right) - \\frac{1}{L} \\sum_{j=1}^L \\sum_{\\text{path}} w_i - \\text{logsumexp}\\left(-\\sum_{\\text{path}_j}w_i\\right)\\right\\} + \\log p(W).\n",
    "$$\n",
    "\n",
    "We tentatively ignore the prior on $W$."
   ]
  },
  {
   "cell_type": "code",
   "execution_count": 1,
   "metadata": {},
   "outputs": [
    {
     "ename": "NameError",
     "evalue": "name 'Adam' is not defined",
     "output_type": "error",
     "traceback": [
      "\u001b[0;31m---------------------------------------------------------------------------\u001b[0m",
      "\u001b[0;31mNameError\u001b[0m                                 Traceback (most recent call last)",
      "\u001b[0;32m<ipython-input-1-27de1cbc398d>\u001b[0m in \u001b[0;36m<module>\u001b[0;34m()\u001b[0m\n\u001b[1;32m      1\u001b[0m \u001b[0;31m# df = pd.read_csv(filename)\u001b[0m\u001b[0;34m\u001b[0m\u001b[0;34m\u001b[0m\u001b[0m\n\u001b[0;32m----> 2\u001b[0;31m \u001b[0moptimizer\u001b[0m \u001b[0;34m=\u001b[0m \u001b[0mAdam\u001b[0m\u001b[0;34m(\u001b[0m\u001b[0;34m[\u001b[0m\u001b[0mweights\u001b[0m\u001b[0;34m]\u001b[0m\u001b[0;34m,\u001b[0m \u001b[0mlr\u001b[0m \u001b[0;34m=\u001b[0m \u001b[0;36m0.01\u001b[0m\u001b[0;34m)\u001b[0m \u001b[0;31m# using Adam since we are doing some stochastic optimization things\u001b[0m\u001b[0;34m\u001b[0m\u001b[0m\n\u001b[0m\u001b[1;32m      3\u001b[0m \u001b[0mnum_epochs\u001b[0m \u001b[0;34m=\u001b[0m \u001b[0;36m5\u001b[0m\u001b[0;34m\u001b[0m\u001b[0m\n\u001b[1;32m      4\u001b[0m \u001b[0;32mdef\u001b[0m \u001b[0mloss_fn\u001b[0m\u001b[0;34m(\u001b[0m\u001b[0mpaths\u001b[0m\u001b[0;34m,\u001b[0m \u001b[0mt\u001b[0m\u001b[0;34m)\u001b[0m\u001b[0;34m:\u001b[0m\u001b[0;34m\u001b[0m\u001b[0m\n\u001b[1;32m      5\u001b[0m     \u001b[0;34m\"\"\"Implement the loss function\"\"\"\u001b[0m\u001b[0;34m\u001b[0m\u001b[0m\n",
      "\u001b[0;31mNameError\u001b[0m: name 'Adam' is not defined"
     ]
    }
   ],
   "source": [
    "# df = pd.read_csv(filename)\n",
    "optimizer = Adam([weights], lr = 0.01) # using Adam since we are doing some stochastic optimization things\n",
    "num_epochs = \n",
    "def loss_fn(paths, t):\n",
    "    \"\"\"Implement the loss function\"\"\"\n",
    "    weighted_paths = (Variable(Tensor(paths.astype(float)))\n",
    "                              * weights.unsqueeze(-1))\n",
    "    weight_sums = weighted_paths.sum(dim=0).sum(dim=0)\n",
    "    first = (-1/(2 * L * s2) * (t - weight_sums).pow(2).sum())\n",
    "    second = - weighted_paths.sum() / L\n",
    "    third = - log_sum_exp(-weight_sums)\n",
    "    loss = -(first + second + third)\n",
    "    return loss \n",
    "\n",
    "pbar = tqdm(total=num_epochs * len(df))\n",
    "losses = []\n",
    "for epoch in range(num_epochs):\n",
    "    for _, duration, sx, sy, tx, ty in (df.sample(frac=1).itertuples()):\n",
    "        pbar.update(1)\n",
    "        paths = random_path(int(sx), int(sy), \n",
    "                            int(tx), int(ty), L)\n",
    "        t = float(duration)\n",
    "        loss = loss_fn(paths, t)\n",
    "        optimizer.zero_grad()\n",
    "        loss.backward()\n",
    "        optimizer.step()\n",
    "        losses.append(loss.data[0])\n",
    "        \n",
    "np.save('results/weights_week1hour{}_f.npy', weights.data.numpy())\n",
    "np.save('results/losses_week1hour{}_f.npy', np.array(losses))"
   ]
  },
  {
   "cell_type": "code",
   "execution_count": 45,
   "metadata": {},
   "outputs": [],
   "source": [
    "# for epoch in range(num_epochs):\n",
    "#     for _, duration, sx, sy, tx, ty in (df.sample(frac=1).itertuples()):\n",
    "#         pbar.update(1)\n",
    "#         paths = random_path(int(sx), int(sy), \n",
    "#                             int(tx), int(ty), L)\n",
    "#         t = float(duration)\n",
    "#         loss = loss_fn(paths, t)\n",
    "#         optimizer.zero_grad()\n",
    "#         loss.backward()\n",
    "#         optimizer.step()\n",
    "#         losses.append(loss.data[0])"
   ]
  },
  {
   "cell_type": "code",
   "execution_count": 5,
   "metadata": {},
   "outputs": [],
   "source": [
    "np.save('results/weights_week1hour4_1.npy', weights.data.numpy())\n",
    "np.save('results/losses_week1hour4_1.npy', np.array(losses))"
   ]
  },
  {
   "cell_type": "code",
   "execution_count": null,
   "metadata": {},
   "outputs": [],
   "source": []
  },
  {
   "cell_type": "code",
   "execution_count": 46,
   "metadata": {},
   "outputs": [
    {
     "data": {
      "image/png": "[encoded data removed]",
      "text/plain": [
       "<matplotlib.figure.Figure at 0x1246ede48>"
      ]
     },
     "metadata": {},
     "output_type": "display_data"
    }
   ],
   "source": [
    "plt.plot(np.array(losses).cumsum()/np.arange(1,len(losses)+1))\n",
    "plt.xscale('log')\n"
   ]
  },
  {
   "cell_type": "code",
   "execution_count": 50,
   "metadata": {},
   "outputs": [
    {
     "data": {
      "text/plain": [
       "[<matplotlib.lines.Line2D at 0x131eed588>]"
      ]
     },
     "execution_count": 50,
     "metadata": {},
     "output_type": "execute_result"
    },
    {
     "data": {
      "image/png": "[encoded data removed]",
      "text/plain": [
       "<matplotlib.figure.Figure at 0x122c29ac8>"
      ]
     },
     "metadata": {},
     "output_type": "display_data"
    }
   ],
   "source": [
    "plt.plot((pd.Series(losses).rolling(len(df)//10).mean()))"
   ]
  },
  {
   "cell_type": "code",
   "execution_count": null,
   "metadata": {},
   "outputs": [],
   "source": [
    "plt.imshow()"
   ]
  },
  {
   "cell_type": "code",
   "execution_count": 30,
   "metadata": {},
   "outputs": [
    {
     "data": {
      "text/plain": [
       "array([ 311.29456444])"
      ]
     },
     "execution_count": 30,
     "metadata": {},
     "output_type": "execute_result"
    }
   ],
   "source": [
    "np.convolve(np.array(losses), np.ones((N,))/N, mode='valid')"
   ]
  },
  {
   "cell_type": "code",
   "execution_count": 36,
   "metadata": {},
   "outputs": [
    {
     "data": {
      "image/png": "[encoded data removed]",
      "text/plain": [
       "<matplotlib.figure.Figure at 0x1206fa978>"
      ]
     },
     "metadata": {},
     "output_type": "display_data"
    }
   ],
   "source": [
    "# cumsum / arange\n",
    "plt.plot(np.array(losses).cumsum()/np.arange(1,len(losses)+1))\n",
    "plt.xscale('log')\n",
    "#plt.yscale('log')"
   ]
  },
  {
   "cell_type": "code",
   "execution_count": 35,
   "metadata": {},
   "outputs": [
    {
     "data": {
      "text/plain": [
       "[<matplotlib.lines.Line2D at 0x1206eaba8>]"
      ]
     },
     "execution_count": 35,
     "metadata": {},
     "output_type": "execute_result"
    },
    {
     "data": {
      "image/png": "[encoded data removed]",
      "text/plain": [
       "<matplotlib.figure.Figure at 0x12388cfd0>"
      ]
     },
     "metadata": {},
     "output_type": "display_data"
    }
   ],
   "source": [
    "# running average via convolution\n",
    "N = 100000\n",
    "plt.plot(\n",
    "    np.convolve(np.array(losses), np.ones((N,))/N, mode='valid'))\n",
    "# # plt.xscale('log')\n",
    "# #plt.yscale('log')\n",
    "# plt.xlim((10000,len(losses)))"
   ]
  },
  {
   "cell_type": "code",
   "execution_count": 62,
   "metadata": {},
   "outputs": [
    {
     "data": {
      "text/plain": [
       "<matplotlib.image.AxesImage at 0x1375e48d0>"
      ]
     },
     "execution_count": 62,
     "metadata": {},
     "output_type": "execute_result"
    },
    {
     "data": {
      "image/png": "[encoded data removed]",
      "text/plain": [
       "<matplotlib.figure.Figure at 0x122e494a8>"
      ]
     },
     "metadata": {},
     "output_type": "display_data"
    }
   ],
   "source": [
    "plt.figure(figsize=(10,10))\n",
    "plt.imshow(softplus(weights).data.numpy().T, origin='lower',\n",
    "           clim=(20,70),cmap='bwr')\n"
   ]
  },
  {
   "cell_type": "code",
   "execution_count": 64,
   "metadata": {},
   "outputs": [],
   "source": [
    "np.save('results/losses_week1hour8_4.npy', arr=np.array(losses))"
   ]
  },
  {
   "cell_type": "code",
   "execution_count": 59,
   "metadata": {},
   "outputs": [
    {
     "data": {
      "text/plain": [
       "Variable containing:\n",
       "  80.0000   80.0000   80.0000  ...    80.0000   80.0000   80.0000\n",
       "  80.0000   80.0000   80.0000  ...    80.0000   80.0000   80.0000\n",
       "  80.3176   80.3176   80.9529  ...    79.6824   80.0000   80.0000\n",
       "             ...                ⋱                ...             \n",
       "  80.0000   80.0000   79.6824  ...    68.5620   73.0259   73.5459\n",
       "  80.0000   80.0000   80.0000  ...    64.7392   67.5195   67.4749\n",
       "  80.0000   80.0000   80.0000  ...    85.2549   90.1408   76.4488\n",
       "[torch.FloatTensor of size 20x70]"
      ]
     },
     "execution_count": 59,
     "metadata": {},
     "output_type": "execute_result"
    }
   ],
   "source": [
    "weights"
   ]
  },
  {
   "cell_type": "code",
   "execution_count": null,
   "metadata": {},
   "outputs": [],
   "source": []
  }
 ],
 "metadata": {
  "kernelspec": {
   "display_name": "Python 3",
   "language": "python",
   "name": "python3"
  },
  "language_info": {
   "codemirror_mode": {
    "name": "ipython",
    "version": 3
   },
   "file_extension": ".py",
   "mimetype": "text/x-python",
   "name": "python",
   "nbconvert_exporter": "python",
   "pygments_lexer": "ipython3",
   "version": "3.6.3"
  }
 },
 "nbformat": 4,
 "nbformat_minor": 2
}
